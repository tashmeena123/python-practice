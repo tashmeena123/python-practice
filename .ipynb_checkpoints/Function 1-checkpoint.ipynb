{
 "cells": [
  {
   "cell_type": "code",
   "execution_count": 5,
   "metadata": {},
   "outputs": [
    {
     "name": "stdout",
     "output_type": "stream",
     "text": [
      "28\n"
     ]
    }
   ],
   "source": [
    "def mult(a,b):\n",
    "    return(a*b)\n",
    "res = mult(4,7)\n",
    "print(res)\n",
    "#function name should be lowercase. If we use print instead of return the function will work but we wont be able to\n",
    "#access it outside function"
   ]
  },
  {
   "cell_type": "code",
   "execution_count": 7,
   "metadata": {},
   "outputs": [
    {
     "name": "stdout",
     "output_type": "stream",
     "text": [
      "55\n",
      "120\n"
     ]
    }
   ],
   "source": [
    "def add(x=10,y=45):\n",
    "    \"\"\"We can assign default value to the function so if no value is goven default value will be used, but if we passed value\n",
    "    it will be considered rather than default value\"\"\"\n",
    "    return(x+y)\n",
    "val1 = add()\n",
    "print(val1)\n",
    "print(add(30,90))"
   ]
  },
  {
   "cell_type": "code",
   "execution_count": 8,
   "metadata": {},
   "outputs": [],
   "source": [
    "def square(num):\n",
    "    return num**2\n",
    "\n",
    "def cube(num):\n",
    "    return num**3\n",
    "\n",
    "def quad(num):\n",
    "    return num++4"
   ]
  },
  {
   "cell_type": "code",
   "execution_count": 9,
   "metadata": {},
   "outputs": [
    {
     "data": {
      "text/plain": [
       "1034"
      ]
     },
     "execution_count": 9,
     "metadata": {},
     "output_type": "execute_result"
    }
   ],
   "source": [
    "total = square(5) + cube(10) + quad(5)\n",
    "total"
   ]
  },
  {
   "cell_type": "code",
   "execution_count": 18,
   "metadata": {},
   "outputs": [
    {
     "name": "stdout",
     "output_type": "stream",
     "text": [
      "Enter a number : 87\n",
      "Please enter correct timing\n"
     ]
    },
    {
     "data": {
      "text/plain": [
       "'Sorry'"
      ]
     },
     "execution_count": 18,
     "metadata": {},
     "output_type": "execute_result"
    }
   ],
   "source": [
    "def greet():\n",
    "    time = eval(input(\"Enter a number : \"))\n",
    "    \n",
    "    if time >= 6 and time < 12:\n",
    "        print(\"Good Morning\")\n",
    "        return time\n",
    "        \n",
    "    elif time < 18 and time >= 12:\n",
    "        print(\"Good Afternoon\")\n",
    "        return square(time)\n",
    "        \n",
    "    elif time < 21 and time >= 18:\n",
    "        print(\"Good Evening\")\n",
    "        return cube(time)\n",
    "        \n",
    "    elif time > 6 and time <= 21:\n",
    "        print(\"Good Night\")\n",
    "        return quad(time)\n",
    "        \n",
    "    else:\n",
    "        print(\"Please enter correct timing\")\n",
    "        return \"Sorry\"\n",
    "        \n",
    "greet()"
   ]
  },
  {
   "cell_type": "code",
   "execution_count": 19,
   "metadata": {},
   "outputs": [
    {
     "name": "stdout",
     "output_type": "stream",
     "text": [
      "Enter a number : 21\n",
      "Good Night\n"
     ]
    },
    {
     "data": {
      "text/plain": [
       "25"
      ]
     },
     "execution_count": 19,
     "metadata": {},
     "output_type": "execute_result"
    }
   ],
   "source": [
    "greet()"
   ]
  },
  {
   "cell_type": "code",
   "execution_count": 12,
   "metadata": {},
   "outputs": [
    {
     "name": "stdout",
     "output_type": "stream",
     "text": [
      "0.8619189167632657\n",
      "46\n",
      "10\n"
     ]
    }
   ],
   "source": [
    "#random funtion \n",
    "import random as rd\n",
    "print(rd.random()) #takes no argument\n",
    "print(rd.randint(10,110)) #takes 2 argument\n",
    "print(rd.randrange(10,100,50)) #takes 3 argument third value indicates steps "
   ]
  },
  {
   "cell_type": "code",
   "execution_count": 13,
   "metadata": {},
   "outputs": [
    {
     "name": "stdout",
     "output_type": "stream",
     "text": [
      "0.2984552911577292\n",
      "50\n"
     ]
    }
   ],
   "source": [
    "from random import *  #this will allow us to directly use funtion without using a reference like rd.function()\n",
    "print(random())\n",
    "print(randint(10,110))"
   ]
  },
  {
   "cell_type": "code",
   "execution_count": 14,
   "metadata": {},
   "outputs": [
    {
     "name": "stdout",
     "output_type": "stream",
     "text": [
      "[236]\n",
      "[10, 42, 98]\n",
      "4.323627392657478\n"
     ]
    }
   ],
   "source": [
    "a = [rd.randint(10,110)*4]\n",
    "print(a)\n",
    "b = [rd.randint(10,110) , rd.randint(10,110) , rd.randint(10,110)]\n",
    "print(b)\n",
    "print(rd.uniform(3,5)) #gives float value within range"
   ]
  },
  {
   "cell_type": "code",
   "execution_count": 24,
   "metadata": {},
   "outputs": [
    {
     "data": {
      "text/plain": [
       "['tree', 'house', 'animal', 'jungle']"
      ]
     },
     "execution_count": 24,
     "metadata": {},
     "output_type": "execute_result"
    }
   ],
   "source": [
    "things = [\"house\" , \"tree\" , \"jungle\" , \"animal\"]\n",
    "rd.shuffle(things) #we cannot assign it to another variable\n",
    "things"
   ]
  },
  {
   "cell_type": "code",
   "execution_count": 42,
   "metadata": {},
   "outputs": [
    {
     "name": "stdout",
     "output_type": "stream",
     "text": [
      "waffle prices :  120\n",
      "pizza prices :  50\n",
      "cadbury prices :  98\n",
      "burger prices :  540\n"
     ]
    }
   ],
   "source": [
    "food = [\"burger\" , \"pizza\" , \"cadbury\" , \"waffle\"]\n",
    "price = [50 , 120 , 98 , 540]\n",
    "\n",
    "rd.shuffle(food) #cannot be use on tuples\n",
    "rd.shuffle(price)\n",
    "\n",
    "for i in range(len(food)):\n",
    "    print(food[i] , \"prices : \" , price[i])"
   ]
  },
  {
   "cell_type": "code",
   "execution_count": 45,
   "metadata": {},
   "outputs": [
    {
     "data": {
      "text/plain": [
       "'pizza'"
      ]
     },
     "execution_count": 45,
     "metadata": {},
     "output_type": "execute_result"
    }
   ],
   "source": [
    "food = (\"burger\" , \"pizza\" , \"cadbury\" , \"waffle\")\n",
    "rd.choice(food) #will select only one element from list"
   ]
  },
  {
   "cell_type": "code",
   "execution_count": 46,
   "metadata": {},
   "outputs": [
    {
     "data": {
      "text/plain": [
       "['burger', 'cadbury', 'cadbury']"
      ]
     },
     "execution_count": 46,
     "metadata": {},
     "output_type": "execute_result"
    }
   ],
   "source": [
    "foods = rd.choices(food , k=3) #choose multiple element but repitition is allowed\n",
    "foods"
   ]
  },
  {
   "cell_type": "code",
   "execution_count": 48,
   "metadata": {},
   "outputs": [
    {
     "name": "stdout",
     "output_type": "stream",
     "text": [
      "[5, 8, 6, 12, 18]\n",
      "['waffle', 'burger', 'cadbury']\n"
     ]
    }
   ],
   "source": [
    "sam = rd.sample(range(20) , k=5) #choose multiple element but repitition is not allowed\n",
    "print(sam)\n",
    "sam1 = rd.sample(food , k=3)\n",
    "print(sam1)"
   ]
  },
  {
   "cell_type": "code",
   "execution_count": 55,
   "metadata": {},
   "outputs": [
    {
     "name": "stdout",
     "output_type": "stream",
     "text": [
      "[74, 5, 55, 62, 2, 27, 60, 63, 36, 84]\n"
     ]
    }
   ],
   "source": [
    "rd.seed(10) #it is  used so that the random output generated will remain same throughout\n",
    "arr = rd.sample(range(1,100) , k=10)\n",
    "print(arr)"
   ]
  },
  {
   "cell_type": "code",
   "execution_count": 58,
   "metadata": {},
   "outputs": [
    {
     "name": "stdout",
     "output_type": "stream",
     "text": [
      "84\n",
      "2\n",
      "468\n",
      "2.98\n",
      "7.65\n",
      "54\n",
      "65\n"
     ]
    }
   ],
   "source": [
    "#some built-in fumctions in python\n",
    "print(max(arr))\n",
    "print(min(arr))\n",
    "print(sum(arr))\n",
    "print(eval(\"2.98\"))\n",
    "print(round(7.647987 , 2))\n",
    "print(abs(-54))\n",
    "print(abs(65))"
   ]
  },
  {
   "cell_type": "code",
   "execution_count": 61,
   "metadata": {},
   "outputs": [
    {
     "name": "stdout",
     "output_type": "stream",
     "text": [
      "[2, 5, 27, 36, 55, 60, 62, 63, 74, 84]\n",
      "[5476, 25, 3025, 3844, 4, 729, 3600, 3969, 1296, 7056]\n"
     ]
    }
   ],
   "source": [
    "arr1 = sorted(arr)\n",
    "print(arr1)\n",
    "\n",
    "arr2 = [pow(x,2) for x in arr]\n",
    "print(arr2)"
   ]
  },
  {
   "cell_type": "code",
   "execution_count": 65,
   "metadata": {},
   "outputs": [
    {
     "name": "stdout",
     "output_type": "stream",
     "text": [
      "[True, False, True, True, False, True, True, True, True, True]\n",
      "True\n",
      "False\n",
      "8\n"
     ]
    }
   ],
   "source": [
    "arr3 = [i>20 for i in arr]\n",
    "print(arr3)\n",
    "print(any(arr3)) #gives true if one is true\n",
    "print(all(arr3)) #gives true if all is true\n",
    "print(sum(arr3))"
   ]
  },
  {
   "cell_type": "code",
   "execution_count": 68,
   "metadata": {},
   "outputs": [
    {
     "data": {
      "text/plain": [
       "[9, 9, 45, 98, 34]"
      ]
     },
     "execution_count": 68,
     "metadata": {},
     "output_type": "execute_result"
    }
   ],
   "source": [
    "data = [9.5 , 9 , 45 , -98 , 34]\n",
    "clean_data = [abs(int(k)) for k in data]\n",
    "clean_data"
   ]
  },
  {
   "cell_type": "code",
   "execution_count": 70,
   "metadata": {},
   "outputs": [
    {
     "data": {
      "text/plain": [
       "'The numbers are 9 , 98 , 45, but my favourate number is 9'"
      ]
     },
     "execution_count": 70,
     "metadata": {},
     "output_type": "execute_result"
    }
   ],
   "source": [
    "\"The numbers are {1} , {3} , {2}, but my favourate number is {1}\".format(*clean_data)"
   ]
  },
  {
   "cell_type": "code",
   "execution_count": null,
   "metadata": {},
   "outputs": [],
   "source": []
  }
 ],
 "metadata": {
  "kernelspec": {
   "display_name": "Python 3",
   "language": "python",
   "name": "python3"
  },
  "language_info": {
   "codemirror_mode": {
    "name": "ipython",
    "version": 3
   },
   "file_extension": ".py",
   "mimetype": "text/x-python",
   "name": "python",
   "nbconvert_exporter": "python",
   "pygments_lexer": "ipython3",
   "version": "3.7.2"
  }
 },
 "nbformat": 4,
 "nbformat_minor": 4
}
