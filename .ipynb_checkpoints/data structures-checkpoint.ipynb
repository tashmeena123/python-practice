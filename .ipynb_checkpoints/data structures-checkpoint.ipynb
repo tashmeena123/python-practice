{
 "cells": [
  {
   "cell_type": "code",
   "execution_count": 1,
   "metadata": {},
   "outputs": [],
   "source": [
    "#list and dictionaries ate mutable\n",
    "#strings are not mutable\n",
    "#range function is used to create a set of number used in loops"
   ]
  },
  {
   "cell_type": "code",
   "execution_count": 4,
   "metadata": {},
   "outputs": [
    {
     "name": "stdout",
     "output_type": "stream",
     "text": [
      "[0, 1, 2, 3, 4]\n",
      "[-2, -1, 0, 1, 2, 3, 4]\n",
      "[20, 25, 30, 35, 40, 45]\n"
     ]
    }
   ],
   "source": [
    "#range consist of three variables which is similar as slice function\n",
    "#first variable indicates start of numbers incuding it\n",
    "#second variable indicates end of number excluding it\n",
    "#third variable indicates the difference between two consecutive numbers\n",
    "\n",
    "print(list(range(5)))\n",
    "print(list(range(-2,5)))\n",
    "print(list(range(20,50,5)))"
   ]
  },
  {
   "cell_type": "code",
   "execution_count": 53,
   "metadata": {},
   "outputs": [
    {
     "name": "stdout",
     "output_type": "stream",
     "text": [
      "[['a', 'b', 'c', 'a', 'b', 'c'], ['d', 'e', 'f']]\n"
     ]
    }
   ],
   "source": [
    "#list can have nested list\n",
    "alpha = [[\"a\",\"b\",\"c\"],[\"d\",\"e\",\"f\"]]\n",
    "alpha[0] = alpha[0]*2\n",
    "print(alpha)"
   ]
  },
  {
   "cell_type": "code",
   "execution_count": 16,
   "metadata": {},
   "outputs": [
    {
     "name": "stdout",
     "output_type": "stream",
     "text": [
      "[['a', 'b', 'c', 'a', 'b', 'c'], ['d', 'e', 'f'], [0, 1, 2, 3, 4], [6, 7, 8, 9, 10]]\n"
     ]
    }
   ],
   "source": [
    "numbers = [list(range(5)),list(range(6,11))]\n",
    "print(alpha + numbers) #here we cannot use multiplication"
   ]
  },
  {
   "cell_type": "code",
   "execution_count": 39,
   "metadata": {},
   "outputs": [
    {
     "name": "stdout",
     "output_type": "stream",
     "text": [
      "[4, 7, 1, 99, -4, 6]\n",
      "[]\n"
     ]
    }
   ],
   "source": [
    "num = [4,7,1,99,-4]\n",
    "num.append(6)\n",
    "print(num)\n",
    "num.clear()\n",
    "print(num)"
   ]
  },
  {
   "cell_type": "code",
   "execution_count": 40,
   "metadata": {},
   "outputs": [
    {
     "name": "stdout",
     "output_type": "stream",
     "text": [
      "[[4, 7, 1, 99, -4]]\n",
      "[4, 7, 1, 99, -4]\n"
     ]
    }
   ],
   "source": [
    "num.append([4,7,1,99,-4]) #we can append only one attribute at a time\n",
    "print(num)\n",
    "num = num[0]\n",
    "print(num)"
   ]
  },
  {
   "cell_type": "code",
   "execution_count": 41,
   "metadata": {},
   "outputs": [
    {
     "name": "stdout",
     "output_type": "stream",
     "text": [
      "[4, 7, 1, 6, 99, -4]\n"
     ]
    }
   ],
   "source": [
    "num.insert(3,6)\n",
    "print(num)"
   ]
  },
  {
   "cell_type": "code",
   "execution_count": 42,
   "metadata": {},
   "outputs": [
    {
     "name": "stdout",
     "output_type": "stream",
     "text": [
      "[-4, 1, 4, 6, 7, 99]\n"
     ]
    }
   ],
   "source": [
    "num.sort()\n",
    "print(num)"
   ]
  },
  {
   "cell_type": "code",
   "execution_count": 44,
   "metadata": {},
   "outputs": [
    {
     "name": "stdout",
     "output_type": "stream",
     "text": [
      "[99, 7, 6, 4, 1, -4]\n"
     ]
    }
   ],
   "source": [
    "num.reverse()\n",
    "print(num)"
   ]
  },
  {
   "cell_type": "code",
   "execution_count": 47,
   "metadata": {},
   "outputs": [
    {
     "name": "stdout",
     "output_type": "stream",
     "text": [
      "['a', 'b', 'cat', [99, 7, 6, 4, 1, -4]]\n"
     ]
    }
   ],
   "source": [
    "letters = [\"a\", \"b\", \"cat\"]\n",
    "letters.append(num)\n",
    "print(letters)"
   ]
  },
  {
   "cell_type": "code",
   "execution_count": 50,
   "metadata": {},
   "outputs": [
    {
     "name": "stdout",
     "output_type": "stream",
     "text": [
      "['a', 'b', 'cat', [99, 7, 'hello', 'hello', 'hello', 6, 4, 1, -4, 7, 7]]\n"
     ]
    }
   ],
   "source": [
    "letters[3].insert(2,\"hello\")\n",
    "letters[3].append(7)\n",
    "print(letters)"
   ]
  },
  {
   "cell_type": "code",
   "execution_count": 51,
   "metadata": {},
   "outputs": [
    {
     "data": {
      "text/plain": [
       "6"
      ]
     },
     "execution_count": 51,
     "metadata": {},
     "output_type": "execute_result"
    }
   ],
   "source": [
    "letters[3][5]"
   ]
  },
  {
   "cell_type": "code",
   "execution_count": 60,
   "metadata": {},
   "outputs": [
    {
     "name": "stdout",
     "output_type": "stream",
     "text": [
      "<class 'tuple'>\n",
      "[['a', 'b', 'c', 'a', 'b', 'c'], ['d', 'e', 'f']]\n",
      "('a', 'b', 'c', 'a', 'b', 'c')\n",
      "<class 'tuple'>\n"
     ]
    }
   ],
   "source": [
    "#tuples are similar to list except they are immutable\n",
    "#thus having only two built in function index and count\n",
    "tup = 1,2,3,4\n",
    "print(type(tup))\n",
    "print(alpha)\n",
    "new_tuple = tuple(alpha[0])\n",
    "print(new_tuple)\n",
    "print(type(new_tuple))"
   ]
  },
  {
   "cell_type": "code",
   "execution_count": 61,
   "metadata": {},
   "outputs": [],
   "source": [
    "op = (1,1,1,10,3,2,5,4,3,4.66)"
   ]
  },
  {
   "cell_type": "code",
   "execution_count": 62,
   "metadata": {},
   "outputs": [
    {
     "data": {
      "text/plain": [
       "37.66"
      ]
     },
     "execution_count": 62,
     "metadata": {},
     "output_type": "execute_result"
    }
   ],
   "source": [
    "sum(op)"
   ]
  },
  {
   "cell_type": "code",
   "execution_count": 63,
   "metadata": {},
   "outputs": [
    {
     "data": {
      "text/plain": [
       "10"
      ]
     },
     "execution_count": 63,
     "metadata": {},
     "output_type": "execute_result"
    }
   ],
   "source": [
    "max(op)"
   ]
  },
  {
   "cell_type": "code",
   "execution_count": 64,
   "metadata": {},
   "outputs": [
    {
     "data": {
      "text/plain": [
       "1"
      ]
     },
     "execution_count": 64,
     "metadata": {},
     "output_type": "execute_result"
    }
   ],
   "source": [
    "min(op)"
   ]
  },
  {
   "cell_type": "code",
   "execution_count": 67,
   "metadata": {},
   "outputs": [
    {
     "data": {
      "text/plain": [
       "3"
      ]
     },
     "execution_count": 67,
     "metadata": {},
     "output_type": "execute_result"
    }
   ],
   "source": [
    "op.count(1)"
   ]
  },
  {
   "cell_type": "code",
   "execution_count": 68,
   "metadata": {},
   "outputs": [
    {
     "data": {
      "text/plain": [
       "4"
      ]
     },
     "execution_count": 68,
     "metadata": {},
     "output_type": "execute_result"
    }
   ],
   "source": [
    "op.index(3)"
   ]
  },
  {
   "cell_type": "code",
   "execution_count": 72,
   "metadata": {},
   "outputs": [
    {
     "name": "stdout",
     "output_type": "stream",
     "text": [
      "20\n",
      "20\n",
      "[1, 2, 3, 4, 1, 2, 3, 4]\n",
      "(1, 2, 3, 4, 1, 2, 3, 4)\n"
     ]
    }
   ],
   "source": [
    "list1 = [1,2,3,4]\n",
    "print(sum(list1*2))\n",
    "tupl = tuple(list1)\n",
    "print(sum(tupl*2))\n",
    "print(list1*2)\n",
    "print(tupl*2)"
   ]
  },
  {
   "cell_type": "code",
   "execution_count": 77,
   "metadata": {},
   "outputs": [
    {
     "data": {
      "text/plain": [
       "(1, 1, 1, 2, 3, 4, 4.66, 5, 6, 10)"
      ]
     },
     "execution_count": 77,
     "metadata": {},
     "output_type": "execute_result"
    }
   ],
   "source": [
    "tuple(sorted(op)) #after sorting it gives result in list format"
   ]
  },
  {
   "cell_type": "code",
   "execution_count": null,
   "metadata": {},
   "outputs": [],
   "source": []
  }
 ],
 "metadata": {
  "kernelspec": {
   "display_name": "Python 3",
   "language": "python",
   "name": "python3"
  },
  "language_info": {
   "codemirror_mode": {
    "name": "ipython",
    "version": 3
   },
   "file_extension": ".py",
   "mimetype": "text/x-python",
   "name": "python",
   "nbconvert_exporter": "python",
   "pygments_lexer": "ipython3",
   "version": "3.7.2"
  }
 },
 "nbformat": 4,
 "nbformat_minor": 4
}
