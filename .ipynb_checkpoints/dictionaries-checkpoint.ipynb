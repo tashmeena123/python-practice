{
 "cells": [
  {
   "cell_type": "code",
   "execution_count": 1,
   "metadata": {},
   "outputs": [
    {
     "name": "stdout",
     "output_type": "stream",
     "text": [
      "{1: 'hello', 'a': 1}\n"
     ]
    }
   ],
   "source": [
    "d1 = {}\n",
    "d1[1] = \"hello\"\n",
    "d1[\"a\"] = 1\n",
    "print(d1)"
   ]
  },
  {
   "cell_type": "code",
   "execution_count": 2,
   "metadata": {},
   "outputs": [
    {
     "name": "stdout",
     "output_type": "stream",
     "text": [
      "{1: 'hello', 'a': 1, 'nest': {'A': 100, 'B': 200}}\n"
     ]
    }
   ],
   "source": [
    "d1[\"nest\"] = {\"A\" : 100, \"B\" : 200} #we can have neted dictionaries\n",
    "print(d1)"
   ]
  },
  {
   "cell_type": "code",
   "execution_count": 4,
   "metadata": {},
   "outputs": [
    {
     "name": "stdout",
     "output_type": "stream",
     "text": [
      "{1: 'asd', 'a': 1, 'nest': {'A': 100, 'B': 200}, 2: 'gjk'}\n"
     ]
    }
   ],
   "source": [
    "d2 = {1 : \"asd\", 2 : \"gjk\"}\n",
    "#we cannot add two dictionaries using add symbol\n",
    "d1.update(d2)\n",
    "print(d1) #here we can see both dictionaries have same key but the summation will only contain the last dict values"
   ]
  },
  {
   "cell_type": "code",
   "execution_count": 5,
   "metadata": {},
   "outputs": [
    {
     "name": "stdout",
     "output_type": "stream",
     "text": [
      "{1: 'asd', 2: 'gjk', 3: 'vgyh'}\n"
     ]
    }
   ],
   "source": [
    "#dictionaries has many similar functions like list\n",
    "#to add new key-value pair it will append\n",
    "d2[3] = \"vgyh\"\n",
    "print(d2)"
   ]
  },
  {
   "cell_type": "code",
   "execution_count": 6,
   "metadata": {},
   "outputs": [
    {
     "name": "stdout",
     "output_type": "stream",
     "text": [
      "{}\n"
     ]
    }
   ],
   "source": [
    "d2.clear()\n",
    "print(d2)"
   ]
  },
  {
   "cell_type": "code",
   "execution_count": 8,
   "metadata": {},
   "outputs": [
    {
     "name": "stdout",
     "output_type": "stream",
     "text": [
      "{1: 'asd', 'a': 1, 2: 'gjk'}\n"
     ]
    }
   ],
   "source": [
    "#we cannot index the key or value foe that we have to convert them into tuple or list\n",
    "d1.pop(\"nest\")\n",
    "print(d1)"
   ]
  },
  {
   "cell_type": "code",
   "execution_count": 9,
   "metadata": {},
   "outputs": [
    {
     "name": "stdout",
     "output_type": "stream",
     "text": [
      "dict_values(['asd', 1, 'gjk'])\n"
     ]
    }
   ],
   "source": [
    "print(d1.values())"
   ]
  },
  {
   "cell_type": "code",
   "execution_count": 10,
   "metadata": {},
   "outputs": [
    {
     "ename": "TypeError",
     "evalue": "'dict_values' object does not support indexing",
     "output_type": "error",
     "traceback": [
      "\u001b[1;31m---------------------------------------------------------------------------\u001b[0m",
      "\u001b[1;31mTypeError\u001b[0m                                 Traceback (most recent call last)",
      "\u001b[1;32m<ipython-input-10-9aea95b3f2a5>\u001b[0m in \u001b[0;36m<module>\u001b[1;34m\u001b[0m\n\u001b[1;32m----> 1\u001b[1;33m \u001b[0mprint\u001b[0m\u001b[1;33m(\u001b[0m\u001b[0md1\u001b[0m\u001b[1;33m.\u001b[0m\u001b[0mvalues\u001b[0m\u001b[1;33m(\u001b[0m\u001b[1;33m)\u001b[0m\u001b[1;33m[\u001b[0m\u001b[1;36m2\u001b[0m\u001b[1;33m]\u001b[0m\u001b[1;33m)\u001b[0m\u001b[1;33m\u001b[0m\u001b[1;33m\u001b[0m\u001b[0m\n\u001b[0m",
      "\u001b[1;31mTypeError\u001b[0m: 'dict_values' object does not support indexing"
     ]
    }
   ],
   "source": [
    "print(d1.values()[2])"
   ]
  },
  {
   "cell_type": "code",
   "execution_count": 13,
   "metadata": {},
   "outputs": [
    {
     "name": "stdout",
     "output_type": "stream",
     "text": [
      "gjk\n",
      "dict_keys([1, 'a', 2])\n"
     ]
    }
   ],
   "source": [
    "convert = list(d1.values())\n",
    "print(convert[2])\n",
    "#same can be done for keys\n",
    "print(d1.keys())"
   ]
  },
  {
   "cell_type": "code",
   "execution_count": 18,
   "metadata": {},
   "outputs": [
    {
     "name": "stdout",
     "output_type": "stream",
     "text": [
      "dict_items([(1, 'asd'), ('a', 1), (2, 'gjk')])\n",
      "{1: 'asd', 'a': 1, 2: 'gjk'}\n"
     ]
    }
   ],
   "source": [
    "l1 = d1.items() #it gives us a list which consisit of key-value pair as a tuple seperated by comma\n",
    "print(l1)\n",
    "new_dict =  dict(l1)\n",
    "print(new_dict)"
   ]
  },
  {
   "cell_type": "code",
   "execution_count": 22,
   "metadata": {},
   "outputs": [
    {
     "name": "stdout",
     "output_type": "stream",
     "text": [
      "{'k1': 10, 'k2': [22, 3.8, 'hello'], 'k3': ('tuple', [1, 2, 3, {1: 'a', 2: 'b'}])}\n"
     ]
    }
   ],
   "source": [
    "#dict can be of any combination\n",
    "maze = {\"k1\" : 10,\n",
    "        \"k2\" : [22 , 3.8 , \"hello\"],\n",
    "        \"k3\" : (\"tuple\" ,[1 , 2 , 3 , {1:\"a\" , 2: \"b\"}])}\n",
    "print(maze)"
   ]
  },
  {
   "cell_type": "code",
   "execution_count": 27,
   "metadata": {},
   "outputs": [
    {
     "data": {
      "text/plain": [
       "'b'"
      ]
     },
     "execution_count": 27,
     "metadata": {},
     "output_type": "execute_result"
    }
   ],
   "source": [
    "maze[\"k3\"][1][3][2] #how to grab nested values"
   ]
  }
 ],
 "metadata": {
  "kernelspec": {
   "display_name": "Python 3",
   "language": "python",
   "name": "python3"
  },
  "language_info": {
   "codemirror_mode": {
    "name": "ipython",
    "version": 3
   },
   "file_extension": ".py",
   "mimetype": "text/x-python",
   "name": "python",
   "nbconvert_exporter": "python",
   "pygments_lexer": "ipython3",
   "version": "3.7.2"
  }
 },
 "nbformat": 4,
 "nbformat_minor": 4
}
