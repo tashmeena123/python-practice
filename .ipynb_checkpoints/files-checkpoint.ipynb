{
 "cells": [
  {
   "cell_type": "code",
   "execution_count": 18,
   "metadata": {},
   "outputs": [],
   "source": [
    "loc = \"C:/Users/HP/Documents/python practice/\" #location to acces the file, it is not necessary\n",
    "f = open(loc + \"test.txt\" , \"w\")\n",
    "f.write(\"Writing for checking purpose\")\n",
    "f.write(\"\\nSecond line of the file\")\n",
    "f.close()"
   ]
  },
  {
   "cell_type": "code",
   "execution_count": 19,
   "metadata": {},
   "outputs": [],
   "source": [
    "f = open(loc + \"test.txt\" , \"a\")\n",
    "f.write(\"\\nThird line of code\")\n",
    "f.close()"
   ]
  },
  {
   "cell_type": "code",
   "execution_count": 20,
   "metadata": {},
   "outputs": [],
   "source": [
    "with open(loc + \"test.txt\" , \"a\") as g:\n",
    "    g.write(\"\\nIts getting long\")\n",
    "    \n",
    "#difference between open and with open is that we dont need to write close function it automatically closes the file"
   ]
  },
  {
   "cell_type": "code",
   "execution_count": 21,
   "metadata": {},
   "outputs": [
    {
     "name": "stdout",
     "output_type": "stream",
     "text": [
      "Writing for checking purpose\n",
      "Second line of the file\n",
      "Third line of code\n",
      "Its getting long\n"
     ]
    }
   ],
   "source": [
    "f = open(loc + \"test.txt\" , \"r\")\n",
    "print(f.read())\n",
    "f.close()"
   ]
  },
  {
   "cell_type": "code",
   "execution_count": null,
   "metadata": {},
   "outputs": [],
   "source": [
    "#to write multiple files at the sames time\n",
    "#it can be if the directory num is different in some pattern\n",
    "\n",
    "gear = [\"Blade Wolf\", \"Raiden\", \"Sam\"]\n",
    "path = \"C:/Users/Michael/Desktop/FILE_{}/second.txt\"\n",
    "\n",
    "for i in range(len(gear)):\n",
    "    with open(path.format(i), \"w\") as f3:\n",
    "        f3.write(gear[i])\n",
    "        f3.write(\"\\n{} is cooler than {}\".format(gear[0], gear[1]))"
   ]
  },
  {
   "cell_type": "code",
   "execution_count": 23,
   "metadata": {},
   "outputs": [],
   "source": [
    "simpsons = [[\"Bart in detention\", \"Lisa at MIT\"] , [\"Dougnuts...Mmm\", \"Homer: 'Nom, nom, nom!'\"]]\n",
    "transformers = [[\"HotRod opens matrix\", \"Optimus returns!\"] , [\"Unicron explodes\", \"Megatron jumps\"]]\n",
    "def File(text):\n",
    "    path = \"C:/Users/HP/Documents/python practice/\"\n",
    "    \n",
    "    for i in range(len(text)):\n",
    "        with open(path + \"cartoon_{}.txt\".format(i),\"w\") as f:\n",
    "            f.write(text[i][0])\n",
    "            f.write(\"\\n\"+text[i][1])\n",
    "            \n",
    "File(transformers)\n"
   ]
  },
  {
   "cell_type": "code",
   "execution_count": 27,
   "metadata": {},
   "outputs": [],
   "source": [
    "dc = open(\"skynet.txt\", \"w\") #it will open the file in same location\n",
    "dc.write(\"Terminator is \\n hunting John connor \\n and Sarah is protecting him\")\n",
    "dc.close()"
   ]
  },
  {
   "cell_type": "code",
   "execution_count": 28,
   "metadata": {},
   "outputs": [],
   "source": [
    "d = open(\"skynet.txt\", \"r+\")\n",
    "d.write(\"\\n hasta la vista baby!\")\n",
    "end = d.readlines() #to grab the text in file in list format\n",
    "d.close()"
   ]
  },
  {
   "cell_type": "code",
   "execution_count": 29,
   "metadata": {},
   "outputs": [
    {
     "data": {
      "text/plain": [
       "['Terminator is \\n', ' hunting John connor \\n', ' and Sarah is protecting him']"
      ]
     },
     "execution_count": 29,
     "metadata": {},
     "output_type": "execute_result"
    }
   ],
   "source": [
    "end"
   ]
  },
  {
   "cell_type": "code",
   "execution_count": 31,
   "metadata": {},
   "outputs": [
    {
     "data": {
      "text/plain": [
       "'Terminator is \\n hunting John connor \\n and Sarah is protecting him'"
      ]
     },
     "execution_count": 31,
     "metadata": {},
     "output_type": "execute_result"
    }
   ],
   "source": [
    "f = \"\".join(end)\n",
    "f"
   ]
  },
  {
   "cell_type": "code",
   "execution_count": 34,
   "metadata": {},
   "outputs": [
    {
     "data": {
      "text/plain": [
       "'Terminator is  hunting John connor  and Sarah is protecting him'"
      ]
     },
     "execution_count": 34,
     "metadata": {},
     "output_type": "execute_result"
    }
   ],
   "source": [
    "a = f.replace(\"\\n\" , \"\")\n",
    "a"
   ]
  },
  {
   "cell_type": "code",
   "execution_count": 35,
   "metadata": {},
   "outputs": [
    {
     "data": {
      "text/plain": [
       "['Terminator',\n",
       " 'is',\n",
       " 'hunting',\n",
       " 'John',\n",
       " 'connor',\n",
       " 'and',\n",
       " 'Sarah',\n",
       " 'is',\n",
       " 'protecting',\n",
       " 'him']"
      ]
     },
     "execution_count": 35,
     "metadata": {},
     "output_type": "execute_result"
    }
   ],
   "source": [
    "a.split()"
   ]
  },
  {
   "cell_type": "code",
   "execution_count": null,
   "metadata": {},
   "outputs": [],
   "source": []
  }
 ],
 "metadata": {
  "kernelspec": {
   "display_name": "Python 3",
   "language": "python",
   "name": "python3"
  },
  "language_info": {
   "codemirror_mode": {
    "name": "ipython",
    "version": 3
   },
   "file_extension": ".py",
   "mimetype": "text/x-python",
   "name": "python",
   "nbconvert_exporter": "python",
   "pygments_lexer": "ipython3",
   "version": "3.7.2"
  }
 },
 "nbformat": 4,
 "nbformat_minor": 4
}
