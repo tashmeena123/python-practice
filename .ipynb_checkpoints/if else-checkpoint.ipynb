{
 "cells": [
  {
   "cell_type": "code",
   "execution_count": 1,
   "metadata": {},
   "outputs": [],
   "source": [
    "a = 10 ; b = 25 ; c = 100 ; d = [\"cat\" ,  \"dog\" , \"mouse\"]"
   ]
  },
  {
   "cell_type": "code",
   "execution_count": 5,
   "metadata": {},
   "outputs": [
    {
     "name": "stdout",
     "output_type": "stream",
     "text": [
      "A is true!\n",
      "B is true!\n",
      "C is true!\n",
      "D is false!\n"
     ]
    }
   ],
   "source": [
    "if a == 10:\n",
    "    print(\"A is true!\")\n",
    "    \n",
    "    if b > 20:\n",
    "        print(\"B is true!\")\n",
    "        \n",
    "        if c > 50:\n",
    "            print(\"C is true!\")\n",
    "            \n",
    "            if \"yellow\" in d:\n",
    "                print(\"D is true!\")\n",
    "                \n",
    "            else:\n",
    "                print(\"D is false!\")\n",
    "                \n",
    "        else:\n",
    "            print(\"C is false!\")\n",
    "        \n",
    "    else:\n",
    "        print(\"B is false\")\n",
    "        \n",
    "else:\n",
    "    print(\"A is false\")"
   ]
  },
  {
   "cell_type": "code",
   "execution_count": 13,
   "metadata": {},
   "outputs": [
    {
     "name": "stdout",
     "output_type": "stream",
     "text": [
      "Conditions are true\n"
     ]
    }
   ],
   "source": [
    "if a==10 and b>20 and c<120:\n",
    "    print(\"Conditions are true\")"
   ]
  },
  {
   "cell_type": "code",
   "execution_count": 17,
   "metadata": {},
   "outputs": [
    {
     "name": "stdout",
     "output_type": "stream",
     "text": [
      "Enter a number: 4\n",
      "Better luck next time\n"
     ]
    }
   ],
   "source": [
    "value = eval(input(\"Enter a number: \"))\n",
    "\n",
    "if value >= 3:\n",
    "    print(\"Better luck next time\")\n",
    "    \n",
    "elif d[value] == \"cat\":\n",
    "    print(\"Found a {}\".format(d[value]))\n",
    "\n",
    "elif d[value] == \"dog\":\n",
    "    print(\"Found a {}\".format(d[value]))\n",
    "    \n",
    "else:\n",
    "    print(\"Found a {}\".format(d[value]))"
   ]
  },
  {
   "cell_type": "code",
   "execution_count": 25,
   "metadata": {},
   "outputs": [
    {
     "data": {
      "text/plain": [
       "[[0, 1, 2, 3, 4, 5, 6, 7, 8, 9, 10],\n",
       " [10, 11, 12, 13, 14, 15, 16, 17, 18, 19, 20],\n",
       " [21, 22, 23, 24, 25, 26, 27, 28, 29, 30]]"
      ]
     },
     "execution_count": 25,
     "metadata": {},
     "output_type": "execute_result"
    }
   ],
   "source": [
    "nest = [list(range(11)) , list(range(11,21)) , list(range(21,31))]\n",
    "nest"
   ]
  },
  {
   "cell_type": "code",
   "execution_count": 26,
   "metadata": {},
   "outputs": [
    {
     "name": "stdout",
     "output_type": "stream",
     "text": [
      "Enter a number: 10\n",
      "10 in list 1\n"
     ]
    }
   ],
   "source": [
    "value = eval(input(\"Enter a number: \"))\n",
    "\n",
    "if value in nest[0]:\n",
    "    print(value,\"in list 1\")\n",
    "\n",
    "elif value in nest[1]:\n",
    "    print(value,\"in list 2\")\n",
    "    \n",
    "elif value in nest[2]:\n",
    "    print(value,\"in list 3\")\n",
    "    \n",
    "else:\n",
    "    print(value, \"is not in any list\")"
   ]
  },
  {
   "cell_type": "code",
   "execution_count": null,
   "metadata": {},
   "outputs": [],
   "source": []
  }
 ],
 "metadata": {
  "kernelspec": {
   "display_name": "Python 3",
   "language": "python",
   "name": "python3"
  },
  "language_info": {
   "codemirror_mode": {
    "name": "ipython",
    "version": 3
   },
   "file_extension": ".py",
   "mimetype": "text/x-python",
   "name": "python",
   "nbconvert_exporter": "python",
   "pygments_lexer": "ipython3",
   "version": "3.7.2"
  }
 },
 "nbformat": 4,
 "nbformat_minor": 4
}
