{
 "cells": [
  {
   "cell_type": "code",
   "execution_count": 2,
   "metadata": {},
   "outputs": [
    {
     "name": "stdout",
     "output_type": "stream",
     "text": [
      "10\n",
      "40\n",
      "70\n",
      "100\n"
     ]
    }
   ],
   "source": [
    "#basic while loop\n",
    "\n",
    "x = 10\n",
    "while x<=100:\n",
    "    print(x)\n",
    "    x += 30"
   ]
  },
  {
   "cell_type": "code",
   "execution_count": 9,
   "metadata": {},
   "outputs": [
    {
     "name": "stdout",
     "output_type": "stream",
     "text": [
      "the division is :  100\n",
      "the division is :  33\n",
      "the division is :  11\n",
      "the division is :  4\n",
      "the division is :  1\n"
     ]
    }
   ],
   "source": [
    "div = 100\n",
    "while div > 1:\n",
    "    print(\"the division is : \", round(div))\n",
    "    div /= 3"
   ]
  },
  {
   "cell_type": "code",
   "execution_count": 11,
   "metadata": {},
   "outputs": [
    {
     "name": "stdout",
     "output_type": "stream",
     "text": [
      "10 / 1 = 10.00\n",
      "9 / 2 = 4.50\n",
      "8 / 3 = 2.67\n",
      "7 / 4 = 1.75\n",
      "6 / 5 = 1.20\n",
      "5 / 6 = 0.83\n",
      "4 / 7 = 0.57\n",
      "3 / 8 = 0.38\n",
      "2 / 9 = 0.22\n"
     ]
    }
   ],
   "source": [
    "q = 10 ; r = 1\n",
    "\n",
    "while q>1 and r<10:\n",
    "    print(\"%d / %d = %.2f\" % (q ,r,(q/r)))\n",
    "    q -= 1\n",
    "    r+=1"
   ]
  },
  {
   "cell_type": "code",
   "execution_count": 17,
   "metadata": {},
   "outputs": [
    {
     "name": "stdout",
     "output_type": "stream",
     "text": [
      "1 + 1 = 2\n",
      "1 + 2 = 3\n",
      "1 + 3 = 4\n",
      "1 + 4 = 5\n"
     ]
    }
   ],
   "source": [
    "a = 1 ; b =1 \n",
    "while a<5:\n",
    "    while b<5:\n",
    "        print(\"{} + {} = {}\".format(a,b,a+b))\n",
    "        b+=1 ; a+=1    \n",
    "# the outer while loop is check only once whereas in nested for it is not same"
   ]
  },
  {
   "cell_type": "code",
   "execution_count": 18,
   "metadata": {},
   "outputs": [
    {
     "name": "stdout",
     "output_type": "stream",
     "text": [
      "0 + 0 = 0\n",
      "0 + 1 = 1\n",
      "0 + 2 = 2\n",
      "1 + 0 = 1\n",
      "1 + 1 = 2\n",
      "1 + 2 = 3\n",
      "2 + 0 = 2\n",
      "2 + 1 = 3\n",
      "2 + 2 = 4\n"
     ]
    }
   ],
   "source": [
    "for i in range(3):\n",
    "    for j in range(3):\n",
    "        print(\"{} + {} = {}\".format(i,j,i+j))"
   ]
  },
  {
   "cell_type": "code",
   "execution_count": 22,
   "metadata": {},
   "outputs": [
    {
     "name": "stdout",
     "output_type": "stream",
     "text": [
      "For x =  1\n",
      "Sum :  11\n",
      "Sum :  21\n",
      "Sum :  31\n",
      "Sum :  41\n",
      "For x =  4\n",
      "Sum :  14\n",
      "Sum :  24\n",
      "Sum :  34\n",
      "Sum :  44\n",
      "For x =  7\n",
      "Sum :  17\n",
      "Sum :  27\n",
      "Sum :  37\n",
      "Sum :  47\n"
     ]
    }
   ],
   "source": [
    "x = 1\n",
    "values = [10,20,30,40]\n",
    "while x < 10:\n",
    "    print(\"For x = \",x)\n",
    "    for y in values:\n",
    "        print(\"Sum : \",x+y)\n",
    "    x+=3"
   ]
  },
  {
   "cell_type": "code",
   "execution_count": 23,
   "metadata": {},
   "outputs": [
    {
     "name": "stdout",
     "output_type": "stream",
     "text": [
      "x is smaller than y\n",
      "x is smaller than y\n",
      "x is greater than y\n",
      "x is greater than y\n",
      "Both are equal\n",
      "x is greater than y\n",
      "x is smaller than y\n"
     ]
    }
   ],
   "source": [
    "x = [10 , 43 , 9 , 67 , 1 , 34 , 23]\n",
    "y = (23 , 54 , 1 , 23 , 1 , 23 , 56)\n",
    "\n",
    "for i in range(len(x)):\n",
    "    if x[i] == y[i]:\n",
    "        print(\"Both are equal\")\n",
    "    elif x[i] > y[i]:\n",
    "        print(\"x is greater than y\")\n",
    "    else:\n",
    "        print(\"x is smaller than y\")"
   ]
  },
  {
   "cell_type": "code",
   "execution_count": 24,
   "metadata": {},
   "outputs": [],
   "source": [
    "#break,pass,continue\n",
    "#break stops a loop\n",
    "#pass prevents the some lines of code from running\n",
    "#continue runs a loop at certian point"
   ]
  },
  {
   "cell_type": "code",
   "execution_count": 28,
   "metadata": {},
   "outputs": [
    {
     "name": "stdout",
     "output_type": "stream",
     "text": [
      "11\n",
      "12\n",
      "13\n",
      "14\n",
      "15\n"
     ]
    }
   ],
   "source": [
    "for i in range(20):\n",
    "    if i > 10:\n",
    "        if i > 15 and i < 20:\n",
    "            break\n",
    "        print(i)"
   ]
  },
  {
   "cell_type": "code",
   "execution_count": 29,
   "metadata": {},
   "outputs": [],
   "source": [
    "for i in range(20):\n",
    "    if i > 10:\n",
    "        if i > 15 or i < 20:\n",
    "            break\n",
    "        print(i)"
   ]
  },
  {
   "cell_type": "code",
   "execution_count": 30,
   "metadata": {},
   "outputs": [
    {
     "name": "stdout",
     "output_type": "stream",
     "text": [
      "11\n",
      "12\n",
      "13\n",
      "14\n",
      "15\n"
     ]
    }
   ],
   "source": [
    "for i in range(20):\n",
    "    if i > 10:\n",
    "        if i > 15 and i < 20:\n",
    "            continue\n",
    "        print(i)"
   ]
  },
  {
   "cell_type": "code",
   "execution_count": 33,
   "metadata": {},
   "outputs": [],
   "source": [
    "for i in range(20):\n",
    "    if i > 10:\n",
    "        if i > 15 or i < 20:\n",
    "            continue\n",
    "        print(i)"
   ]
  },
  {
   "cell_type": "code",
   "execution_count": 40,
   "metadata": {},
   "outputs": [
    {
     "name": "stdout",
     "output_type": "stream",
     "text": [
      "y\n",
      "t\n",
      "o\n",
      "n\n"
     ]
    }
   ],
   "source": [
    " for word in \"PytHon\":\n",
    "    if word == \"P\" or word == \"H\":\n",
    "        continue\n",
    "    print(word)    "
   ]
  },
  {
   "cell_type": "code",
   "execution_count": 41,
   "metadata": {},
   "outputs": [
    {
     "name": "stdout",
     "output_type": "stream",
     "text": [
      "P\n",
      "y\n",
      "t\n",
      "H\n",
      "o\n",
      "n\n"
     ]
    }
   ],
   "source": [
    " for word in \"PytHon\":\n",
    "    if word == \"P\" and word == \"H\":\n",
    "        continue\n",
    "    print(word)  "
   ]
  },
  {
   "cell_type": "code",
   "execution_count": 43,
   "metadata": {},
   "outputs": [
    {
     "name": "stdout",
     "output_type": "stream",
     "text": [
      "P\n",
      "y\n"
     ]
    }
   ],
   "source": [
    " for word in \"PytHon\":\n",
    "    if word == \"t\" or word == \"H\":\n",
    "        break\n",
    "    print(word)  "
   ]
  },
  {
   "cell_type": "code",
   "execution_count": 44,
   "metadata": {},
   "outputs": [
    {
     "name": "stdout",
     "output_type": "stream",
     "text": [
      "P\n",
      "y\n",
      "t\n",
      "H\n",
      "o\n",
      "n\n"
     ]
    }
   ],
   "source": [
    " for word in \"PytHon\":\n",
    "    if word == \"t\" and word == \"H\":\n",
    "        break\n",
    "    print(word)  "
   ]
  },
  {
   "cell_type": "code",
   "execution_count": null,
   "metadata": {},
   "outputs": [],
   "source": []
  }
 ],
 "metadata": {
  "kernelspec": {
   "display_name": "Python 3",
   "language": "python",
   "name": "python3"
  },
  "language_info": {
   "codemirror_mode": {
    "name": "ipython",
    "version": 3
   },
   "file_extension": ".py",
   "mimetype": "text/x-python",
   "name": "python",
   "nbconvert_exporter": "python",
   "pygments_lexer": "ipython3",
   "version": "3.7.2"
  }
 },
 "nbformat": 4,
 "nbformat_minor": 4
}
