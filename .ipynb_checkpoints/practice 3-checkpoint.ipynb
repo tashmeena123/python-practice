{
 "cells": [
  {
   "cell_type": "code",
   "execution_count": 5,
   "metadata": {},
   "outputs": [
    {
     "data": {
      "text/plain": [
       "[0, 50, 100, 150, 200, 250]"
      ]
     },
     "execution_count": 5,
     "metadata": {},
     "output_type": "execute_result"
    }
   ],
   "source": [
    "#BASED ON LOOPS\n",
    "#Q1 Convert for loop into while loop\n",
    "numbers = list(range(0,110,10))\n",
    "\n",
    "first = []\n",
    "for num in numbers:\n",
    "    s = num *2.5\n",
    "    if s%2 == 0:\n",
    "        first.append(int(s))\n",
    "        \n",
    "first"
   ]
  },
  {
   "cell_type": "code",
   "execution_count": 8,
   "metadata": {},
   "outputs": [
    {
     "data": {
      "text/plain": [
       "[0, 50, 100, 150, 200, 250]"
      ]
     },
     "execution_count": 8,
     "metadata": {},
     "output_type": "execute_result"
    }
   ],
   "source": [
    "#soluttion\n",
    "first = []\n",
    "num = 0\n",
    "while num < len(numbers):\n",
    "    s = numbers[num] * 2.5\n",
    "    if s%2 == 0:\n",
    "        first.append(int(s))\n",
    "    num += 1\n",
    "       \n",
    "first"
   ]
  },
  {
   "cell_type": "code",
   "execution_count": 11,
   "metadata": {},
   "outputs": [],
   "source": [
    "#Q2 \n",
    "rep = [\"Joe\", \"K\", \"Mike\", \"Joi\", \"Luv\", \"Deckard\", \"Wallace\", \"Rachel\"] \n",
    "#DESIRED OUTPUT \n",
    "#Joe is a replicant \n",
    "#Mike is NOT a replicant \n",
    "#Joi is a replicant \n",
    "#Luv is a replicant \n",
    "#Deckard is NOT a replicant \n",
    "#Wallace is NOT a replicant \n",
    "#Rachel is a replicant"
   ]
  },
  {
   "cell_type": "code",
   "execution_count": 12,
   "metadata": {},
   "outputs": [
    {
     "name": "stdout",
     "output_type": "stream",
     "text": [
      "Joe  is a replicant\n",
      "K  is not a replicant\n",
      "Mike  is not a replicant\n",
      "Joi  is a replicant\n",
      "Luv  is a replicant\n",
      "Deckard  is not a replicant\n",
      "Wallace  is not a replicant\n",
      "Rachel  is a replicant\n"
     ]
    }
   ],
   "source": [
    "#solution\n",
    "for i in rep:\n",
    "    if(len(i)%3 == 0):\n",
    "        print(i,\" is a replicant\")\n",
    "    else:\n",
    "        print(i, \" is not a replicant\")"
   ]
  },
  {
   "cell_type": "code",
   "execution_count": 13,
   "metadata": {},
   "outputs": [],
   "source": [
    "#Q3\n",
    "# Add Code Here\n",
    "#for r in range(2):\n",
    "    # Add Code Here\n",
    "    # Add Code Here\n",
    "        # Add Code VV\n",
    "        #k % 2 == 0:\n",
    "            #print(\"Question\")\n",
    "        # Add Code VV\n",
    "        #k > 3 and k < 7:\n",
    "            #print(\"CELL\")\n",
    "        # Add Code VV\n",
    "        #k == 3:\n",
    "            #print(\"INTERLINKED\")\n",
    "        # Add Code HERE\n",
    "            #print(\"CELL WITHIN CELLS\")\n",
    "        # Add Code HERE!!!\n",
    "# Add Code Here\n",
    "\n",
    "#DESIRED OUTPUT\n",
    "#Human\n",
    "#Question\n",
    "#CELL WITHIN CELLS\n",
    "#Question\n",
    "#INTERLINKED\n",
    "#Question\n",
    "#CELL\n",
    "#Question\n",
    "#CELL WITHIN CELLS\n",
    "#Question\n",
    "#CELL WITHIN CELLS\n",
    "#Question\n",
    "#INTERLINKED\n",
    "#Question\n",
    "#CELL\n",
    "#Question\n",
    "#CELL WITHIN CELLS\n",
    "#Time to Finish\n"
   ]
  },
  {
   "cell_type": "code",
   "execution_count": 20,
   "metadata": {},
   "outputs": [
    {
     "name": "stdout",
     "output_type": "stream",
     "text": [
      "humans\n",
      "Question\n",
      "CELL WITHIN CELLS\n",
      "Question\n",
      "INTERLINKED\n",
      "Question\n",
      "CELL\n",
      "Question\n",
      "CELL WITHIN CELLS\n",
      "Question\n",
      "CELL WITHIN CELLS\n",
      "Question\n",
      "INTERLINKED\n",
      "Question\n",
      "CELL\n",
      "Question\n",
      "CELL WITHIN CELLS\n",
      "Time to finish\n"
     ]
    }
   ],
   "source": [
    "#solution\n",
    "\n",
    "print(\"humans\")\n",
    "for r in range(2):\n",
    "    k = 0\n",
    "    while k  < 8:\n",
    "        #Add Code VV\n",
    "        if k % 2 == 0:\n",
    "            print(\"Question\")\n",
    "        elif k > 3 and k < 7:\n",
    "            print(\"CELL\")\n",
    "        elif k == 3:\n",
    "            print(\"INTERLINKED\")\n",
    "        else:\n",
    "            print(\"CELL WITHIN CELLS\")\n",
    "        k += 1\n",
    "print(\"Time to finish\")"
   ]
  },
  {
   "cell_type": "code",
   "execution_count": 21,
   "metadata": {},
   "outputs": [
    {
     "data": {
      "text/plain": [
       "'START\\nY = 0\\nHuman\\nQuestion\\nCELL WITHIN CELLS\\nQuestion\\nINTERLINKED\\nQuestion\\nCELL\\nQuestion\\nCELL WITHIN CELLS\\nQuestion\\nCELL WITHIN CELLS\\nQuestion\\nINTERLINKED\\nQuestion\\nCELL\\nQuestion\\nCELL WITHIN CELLS\\nTime to Finish\\nY = 0\\n________\\nX is equal to 4\\n________\\nY = 2\\n________\\nX is equal to 5\\n________\\nY = 4\\n________\\nX is equal to 6\\n________\\nY = 6\\n________\\nX is equal to 7\\n________\\nY = 8\\n________\\nX is equal to 8\\n________\\nEND\\n'"
      ]
     },
     "execution_count": 21,
     "metadata": {},
     "output_type": "execute_result"
    }
   ],
   "source": [
    "#Q4\n",
    "#print(\"Y =\", y)\n",
    "    #print(\"________\")\n",
    "    #print(\"X is equal to\", x)\n",
    "    #print(\"________\")\n",
    "#desired output\n",
    "\n",
    "\"\"\"START\n",
    "Y = 0\n",
    "________\n",
    "X is equal to 4\n",
    "________\n",
    "Y = 2\n",
    "________\n",
    "X is equal to 5\n",
    "________\n",
    "Y = 4\n",
    "________\n",
    "X is equal to 6\n",
    "________\n",
    "Y = 6\n",
    "________\n",
    "X is equal to 7\n",
    "________\n",
    "Y = 8\n",
    "________\n",
    "X is equal to 8\n",
    "________\n",
    "END\n",
    "\"\"\""
   ]
  },
  {
   "cell_type": "code",
   "execution_count": 26,
   "metadata": {},
   "outputs": [
    {
     "name": "stdout",
     "output_type": "stream",
     "text": [
      "Start\n",
      "Y = 0\n",
      "________\n",
      "X is equal to 4\n",
      "________\n",
      "Y = 2\n",
      "________\n",
      "X is equal to 5\n",
      "________\n",
      "Y = 4\n",
      "________\n",
      "X is equal to 6\n",
      "________\n",
      "Y = 6\n",
      "________\n",
      "X is equal to 7\n",
      "________\n",
      "Y = 8\n",
      "________\n",
      "X is equal to 8\n",
      "________\n",
      "End\n"
     ]
    }
   ],
   "source": [
    "#Solution\n",
    "print(\"Start\")\n",
    "\n",
    "x = 0 ; y = 0\n",
    "while y<8:    \n",
    "    for x in range(4,9):\n",
    "        print(\"Y =\", y)\n",
    "        print(\"________\")\n",
    "        print(\"X is equal to\", x)\n",
    "        print(\"________\")\n",
    "        y += 2\n",
    "print(\"End\")"
   ]
  },
  {
   "cell_type": "code",
   "execution_count": 27,
   "metadata": {},
   "outputs": [],
   "source": [
    "#Q5\n",
    "students = [\"nAtalie\", \"M\", \"Fa ye\", \" Callum\", \"Tara\"]\n",
    "#DESIRED OUTPUT\n",
    "#('NATALIE', 'FAYE', 'TARA', 'CALLUM')"
   ]
  },
  {
   "cell_type": "code",
   "execution_count": 32,
   "metadata": {},
   "outputs": [
    {
     "data": {
      "text/plain": [
       "('NATALIE', 'FAYE', 'CALLUM', 'TARA')"
      ]
     },
     "execution_count": 32,
     "metadata": {},
     "output_type": "execute_result"
    }
   ],
   "source": [
    "correct = []\n",
    "i=0\n",
    "while i < len(students):\n",
    "    s = students[i].replace(\" \",\"\").upper()\n",
    "    if len(s)>2:\n",
    "        correct.append(s)\n",
    "    i += 1\n",
    "    \n",
    "corr = tuple(correct)\n",
    "corr"
   ]
  },
  {
   "cell_type": "code",
   "execution_count": 33,
   "metadata": {},
   "outputs": [],
   "source": [
    "#Q6\n",
    "d1 = {\"k1\": [20, 30, 40], \"k2\": [1000, 2000, 3000]}\n",
    "#DESIRED OUTPUT\n",
    "#Total = 1020\n",
    "#Total = 2030\n",
    "#Total = 3040\n",
    "#End loop\n"
   ]
  },
  {
   "cell_type": "code",
   "execution_count": 35,
   "metadata": {},
   "outputs": [
    {
     "name": "stdout",
     "output_type": "stream",
     "text": [
      "Total =  1020\n",
      "Total =  2030\n",
      "Total =  3040\n",
      "End loop\n"
     ]
    }
   ],
   "source": [
    "#Solution\n",
    "for i in range(3):\n",
    "    sum = d1[\"k1\"][i] + d1[\"k2\"][i]\n",
    "    print(\"Total = \",sum)\n",
    "    \n",
    "print(\"End loop\")"
   ]
  },
  {
   "cell_type": "code",
   "execution_count": 36,
   "metadata": {},
   "outputs": [],
   "source": [
    "#Q7\n",
    "prices = {\"popcorn\": 5, \"soda\": 2, \"veggie burger\": 7}\n",
    "total = []\n",
    "val = 0\n",
    "#while val < 2:\n",
    "    #num1 = input(\"Would you like popcorn with the film? \")\n",
    "    #if num1 == \"no\":\n",
    "        #None\n",
    "    #elif num1 == \"quit\":\n",
    "        #print(\"Enjoy the film\")\n",
    "        #break\n",
    "#print(\"That will be $\" + str(sum(total)))\n",
    "#print(\"Enjoy the film!\")\n",
    "\n",
    "#desired output\n",
    "\n",
    "#1st EXAMPLE\n",
    "#Would you like popcorn with the film? no\n",
    "#Would you like a soda drink? no\n",
    "#Would you like a veggie burger?no\n",
    "#That will be $0\n",
    "#Enjoy the film!\n",
    "\n",
    "#2nd Example\n",
    "#Would you like popcorn with the film? yes\n",
    "#Would you like a soda drink? yes\n",
    "#Would you like a veggie burger?no\n",
    "#That will be $7\n",
    "#Enjoy the film!\n",
    "\n",
    "#3rd EXAMPLE\n",
    "#Would you like popcorn with the film? quit\n",
    "#Enjoy the film\n"
   ]
  },
  {
   "cell_type": "code",
   "execution_count": 6,
   "metadata": {},
   "outputs": [
    {
     "name": "stdout",
     "output_type": "stream",
     "text": [
      "Would you like popcorn with the film? yes\n",
      "Would you like soda with the film? quit\n",
      "Enjoy the film\n",
      "Would you like Veggie burger with the film? no\n",
      "That will be $5\n",
      "Enjoy the film!\n"
     ]
    }
   ],
   "source": [
    "prices = {\"popcorn\": 5, \"soda\": 2, \"veggie burger\": 7}\n",
    "total = []\n",
    "val = 0\n",
    "while val < 2:\n",
    "    num1 = input(\"Would you like popcorn with the film? \")\n",
    "    if num1 == \"no\":\n",
    "        None\n",
    "    elif num1 == \"quit\":\n",
    "        print(\"Enjoy the film\")\n",
    "        break\n",
    "    else:\n",
    "        total.append(prices[\"popcorn\"])\n",
    "        \n",
    "    num2 = input(\"Would you like soda with the film? \")\n",
    "    if num2 == \"no\":\n",
    "        None\n",
    "    elif num2 == \"quit\":\n",
    "        print(\"Enjoy the film\")\n",
    "    else:\n",
    "        total.append(prices[\"soda\"]) \n",
    "        \n",
    "    num3 = input(\"Would you like Veggie burger with the film? \")\n",
    "    if num3 == \"no\":\n",
    "        None\n",
    "    elif num3 == \"quit\":\n",
    "        print(\"Enjoy the film\")\n",
    "    else:\n",
    "        total.append(prices[\"veggie burger\"])\n",
    "        \n",
    "    print(\"That will be $\" + str(sum(total)))\n",
    "    print(\"Enjoy the film!\")\n",
    "    break\n",
    "    "
   ]
  },
  {
   "cell_type": "code",
   "execution_count": null,
   "metadata": {},
   "outputs": [],
   "source": []
  },
  {
   "cell_type": "code",
   "execution_count": null,
   "metadata": {},
   "outputs": [],
   "source": []
  }
 ],
 "metadata": {
  "kernelspec": {
   "display_name": "Python 3",
   "language": "python",
   "name": "python3"
  },
  "language_info": {
   "codemirror_mode": {
    "name": "ipython",
    "version": 3
   },
   "file_extension": ".py",
   "mimetype": "text/x-python",
   "name": "python",
   "nbconvert_exporter": "python",
   "pygments_lexer": "ipython3",
   "version": "3.7.2"
  }
 },
 "nbformat": 4,
 "nbformat_minor": 4
}
