{
 "cells": [
  {
   "cell_type": "code",
   "execution_count": 1,
   "metadata": {},
   "outputs": [],
   "source": [
    "#BASED ON FUNCTIONS\n",
    "\n",
    "#Q1 Import random inside funtion with two parameters\n",
    "# Add code here\n",
    "    # Add code here\n",
    "    #rd.seed(10)\n",
    "    #numbers = range(1, rd.randint(1, rad))\n",
    "    #calc = []\n",
    "    #for i in range(len(numbers)):\n",
    "        # Add Code VV\n",
    "        #numbers[i] # Add code here:\n",
    "            #s = numbers[i]\n",
    "            # Add code here\n",
    "        #Add Code here\n",
    "            #s = 0\n",
    "            # Add code here\n",
    "    # Add code VV\n",
    "    #print((calc))\n",
    "    #Add Code VV\n",
    "        #calc\n",
    "\n",
    "#final input\n",
    "#1ST\n",
    "#compute(20, 1)\n",
    "#2ND\n",
    "#compute(20, 0)\n",
    "\n",
    "#desired output\n",
    "#1ST\n",
    "#56\n",
    "#[0, 0, 0, 0, 0, 0, 0, 0, 0, 0, 11, 0, 13, 0, 15, 0, 17, 0]\n",
    "#2ND\n",
    "#60\n",
    "#[0, 0, 0, 0, 0, 0, 0, 0, 0, 0, 0, 12, 0, 14, 0, 16, 0, 18]"
   ]
  },
  {
   "cell_type": "code",
   "execution_count": 2,
   "metadata": {},
   "outputs": [],
   "source": [
    "#solution\n",
    "import random as rd \n",
    "\n",
    "def compute(rad,num):\n",
    "    rd.seed(10)\n",
    "    numbers = range(1, rd.randint(1, rad))\n",
    "    calc = []\n",
    "    for i in range(len(numbers)):\n",
    "        if numbers[i]%2 == num and numbers[i]>10:\n",
    "            s = numbers[i]\n",
    "            calc.append(s)\n",
    "        else:\n",
    "            s = 0\n",
    "            calc.append(s)\n",
    "    print(sum(calc))\n",
    "    return calc"
   ]
  },
  {
   "cell_type": "code",
   "execution_count": 3,
   "metadata": {},
   "outputs": [
    {
     "name": "stdout",
     "output_type": "stream",
     "text": [
      "56\n"
     ]
    },
    {
     "data": {
      "text/plain": [
       "[0, 0, 0, 0, 0, 0, 0, 0, 0, 0, 11, 0, 13, 0, 15, 0, 17, 0]"
      ]
     },
     "execution_count": 3,
     "metadata": {},
     "output_type": "execute_result"
    }
   ],
   "source": [
    "compute(20,1)"
   ]
  },
  {
   "cell_type": "code",
   "execution_count": 4,
   "metadata": {},
   "outputs": [
    {
     "name": "stdout",
     "output_type": "stream",
     "text": [
      "60\n"
     ]
    },
    {
     "data": {
      "text/plain": [
       "[0, 0, 0, 0, 0, 0, 0, 0, 0, 0, 0, 12, 0, 14, 0, 16, 0, 18]"
      ]
     },
     "execution_count": 4,
     "metadata": {},
     "output_type": "execute_result"
    }
   ],
   "source": [
    "compute(20,0)"
   ]
  },
  {
   "cell_type": "code",
   "execution_count": 5,
   "metadata": {},
   "outputs": [
    {
     "name": "stdout",
     "output_type": "stream",
     "text": [
      "My favourite language is python.\n",
      "The coolest about python is functions\n"
     ]
    }
   ],
   "source": [
    "#Q2  CALL A NESTED FUNCTION AND MODIFY ITS DEFAULT PARAMETER\n",
    "def udemy(string):\n",
    "    lang(string)\n",
    "    print(\"The coolest about {} is functions\".format(string))\n",
    "    \n",
    "def lang(program = \"JavaScript\"):\n",
    "    print(\"My favourite language is {}.\".format(program))\n",
    "    \n",
    "udemy(\"python\")"
   ]
  },
  {
   "cell_type": "code",
   "execution_count": 6,
   "metadata": {},
   "outputs": [
    {
     "name": "stdout",
     "output_type": "stream",
     "text": [
      "Students Name: hello\n",
      "Hello there, hello !\n",
      "Students Name: cakkum\n",
      "Hello there, cakkum !\n"
     ]
    }
   ],
   "source": [
    "#Q3 FUNCTION REPEATS ANOTHER FUNCTION WITH INPUT\n",
    "\n",
    "def greet(name= \"Michael\"):\n",
    "    print(\"Hello there, \" + name,\"!\")\n",
    "\n",
    "def repeat(n):\n",
    "    for i in range(2):\n",
    "        name = input(\"Students Name: \")\n",
    "        greet(name)\n",
    "        \n",
    "repeat(2)"
   ]
  },
  {
   "cell_type": "code",
   "execution_count": 7,
   "metadata": {},
   "outputs": [],
   "source": [
    "#Q4\n",
    "\n",
    "#def survivor(name= \"Michael\"):\n",
    "    #zomb1 = input(\"How many zombies are there? \")\n",
    "    #zombie = (zomb1)\n",
    "    #if add code here\n",
    "        #print(\"{} is fighting {} zombies!\" # add code here\n",
    "    #elif add code here\n",
    "        #print(\"{} is shooting {} zombies!\" # add code here\n",
    "    #elif add code here\n",
    "        #print(\"{} is running from {} zombies!\" #add code here\n",
    "    #else:\n",
    "        #print(\"{} is eaten ALIVE by {} zombies!!!!!\" #add code here\n",
    "              \n",
    "#desired output\n",
    "#How many zombies are there? 110\n",
    "#Michael is running from 110 zombies!"
   ]
  },
  {
   "cell_type": "code",
   "execution_count": 10,
   "metadata": {},
   "outputs": [
    {
     "name": "stdout",
     "output_type": "stream",
     "text": [
      "How many zombies are there? 200\n",
      "Michael is eaten ALIVE by 200 zombies!!!!!\n"
     ]
    }
   ],
   "source": [
    "def survivor(name= \"Michael\"):\n",
    "    zomb1 = eval(input(\"How many zombies are there? \"))\n",
    "    if zomb1>=1 and zomb1<20:\n",
    "        print(\"{} is fighting {} zombies!\".format(name,zomb1))\n",
    "    elif zomb1>=20 and zomb1<100:\n",
    "        print(\"{} is shooting {} zombies!\".format(name,zomb1))\n",
    "    elif zomb1>=100 and zomb1<200:\n",
    "        print(\"{} is running from {} zombies!\".format(name,zomb1))\n",
    "    else:\n",
    "        print(\"{} is eaten ALIVE by {} zombies!!!!!\".format(name,zomb1))\n",
    "              \n",
    "survivor()"
   ]
  },
  {
   "cell_type": "code",
   "execution_count": null,
   "metadata": {},
   "outputs": [],
   "source": []
  }
 ],
 "metadata": {
  "kernelspec": {
   "display_name": "Python 3",
   "language": "python",
   "name": "python3"
  },
  "language_info": {
   "codemirror_mode": {
    "name": "ipython",
    "version": 3
   },
   "file_extension": ".py",
   "mimetype": "text/x-python",
   "name": "python",
   "nbconvert_exporter": "python",
   "pygments_lexer": "ipython3",
   "version": "3.7.2"
  }
 },
 "nbformat": 4,
 "nbformat_minor": 4
}
