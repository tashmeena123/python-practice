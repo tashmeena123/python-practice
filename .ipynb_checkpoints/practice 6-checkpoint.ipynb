{
 "cells": [
  {
   "cell_type": "code",
   "execution_count": 1,
   "metadata": {},
   "outputs": [],
   "source": [
    "#BASED ON HANDLING ERROR\n",
    "\n",
    "#Q1 : CONVERT FUNCTIONS INTO LAMBDA EXPRESSIONS\n",
    "\n",
    "#1)\n",
    "#def mul(num1= 5, num2= 20, num3= 100):\n",
    "    #return num1 + num2 + num3\n",
    "    \n",
    "#2)\n",
    "#bowl = [\"cherries\", \"orange\", \"apple\", \"melon\", \"figs\"]\n",
    "#def salad(fruit):\n",
    "    #if fruit in bowl:\n",
    "        #print(fruit)\n",
    "    #else:\n",
    "        #print(\"not in bowl\")\n",
    "        \n",
    "#3)\n",
    "#def inside(num):\n",
    "    #if num in list(range(10)):\n",
    "        #return num**2\n",
    "    #else:\n",
    "        #print(\"outside\")\n",
    "        \n",
    "#desired output\n",
    "#1. 125 mul() parameters are left empty.\n",
    "#2. 'not in bowl' or 'apple'\n",
    "#3. 16 or \"outside"
   ]
  },
  {
   "cell_type": "code",
   "execution_count": 3,
   "metadata": {},
   "outputs": [
    {
     "data": {
      "text/plain": [
       "125"
      ]
     },
     "execution_count": 3,
     "metadata": {},
     "output_type": "execute_result"
    }
   ],
   "source": [
    "#Solution\n",
    "\n",
    "#1\n",
    "l = lambda n=5,n1=20,n2=100 : n+n1+n2\n",
    "\n",
    "l()"
   ]
  },
  {
   "cell_type": "code",
   "execution_count": 5,
   "metadata": {},
   "outputs": [
    {
     "name": "stdout",
     "output_type": "stream",
     "text": [
      "fruit\n"
     ]
    }
   ],
   "source": [
    "#Solution\n",
    "\n",
    "#2\n",
    "bowl = [\"cherries\", \"orange\", \"apple\", \"melon\", \"figs\"]\n",
    "l1 = lambda x : print(\"fruit\") if x in bowl else print(\"not in bowl\")\n",
    "\n",
    "l1(\"cherries\")"
   ]
  },
  {
   "cell_type": "code",
   "execution_count": 7,
   "metadata": {},
   "outputs": [
    {
     "name": "stdout",
     "output_type": "stream",
     "text": [
      "outside\n"
     ]
    }
   ],
   "source": [
    "#Solution\n",
    "\n",
    "#3\n",
    "l2 = lambda n : n**2 if n in range(10) else print(\"outside\")\n",
    "\n",
    "l2(98)"
   ]
  },
  {
   "cell_type": "code",
   "execution_count": 8,
   "metadata": {},
   "outputs": [],
   "source": [
    "#Q2  HANDLING ERRORS WITH LAMBDA AND WHILE LOOP\n",
    "\n",
    "#while True:\n",
    "#try:\n",
    "#val = int(eval(input(\"Enter an integer: \")))\n",
    "#g = lamda x: x*3 if x > 10 else \"too low\"\n",
    "### CONTROL FLOW GOES HERE ####\n",
    "#g(val) > 20\n",
    "#################################\n",
    "#except:\n",
    "#continue\n",
    "#finally:\n",
    "\n",
    "#DESIRED OUTPUTS\n",
    "#Enter an integer: 1\n",
    "#Try again please\n",
    "#End code\n",
    "#Enter an integer: 10\n",
    "#Try again please\n",
    "#End code\n",
    "#Enter an integer: 12.12345\n",
    "#Lambda is 36\n",
    "#Input value is 12\n",
    "#End code"
   ]
  },
  {
   "cell_type": "code",
   "execution_count": 1,
   "metadata": {},
   "outputs": [
    {
     "name": "stdout",
     "output_type": "stream",
     "text": [
      "Enter an integer: 4\n",
      "too low\n",
      "Try Again, Please\n",
      "End Code\n",
      "Enter an integer: 98\n",
      "Lambda is  294\n",
      "Input is  98\n",
      "Try Again, Please\n",
      "End Code\n"
     ]
    }
   ],
   "source": [
    "#solution\n",
    "def error():\n",
    "    while True:\n",
    "        try:\n",
    "            val = int(eval(input(\"Enter an integer: \")))\n",
    "            g = lambda x : x*3 if x > 10 else print(\"too low\")\n",
    "                \n",
    "            if g(val) > 20:\n",
    "                print(\"Lambda is \" , g(val))\n",
    "                print(\"Input is \" , val)\n",
    "                break\n",
    "            else:\n",
    "                print(\"No output\")\n",
    "                \n",
    "        except:\n",
    "            continue\n",
    "        finally:\n",
    "            print(\"Try Again, Please\")\n",
    "            print(\"End Code\")\n",
    "            \n",
    "error()"
   ]
  },
  {
   "cell_type": "code",
   "execution_count": 4,
   "metadata": {},
   "outputs": [],
   "source": [
    "#Q3 Use for loops for lambda\n",
    "\n",
    "#g = lambda x: x**2 if x > 5 in range(10) else 0\n",
    "\n",
    "#desired output\n",
    "#Where g(9):     Where g(3):\n",
    "#100 81           100 0\n",
    "#101 82           101 1\n",
    "#102 83           102 2\n",
    "#103 84           103 3\n",
    "#104 85           104 4\n",
    "#105 86           105 5\n",
    "#106 87           106 6\n",
    "#107 88           107 7\n",
    "#108 89           108 8\n",
    "#109 90           109 9\n"
   ]
  },
  {
   "cell_type": "code",
   "execution_count": 8,
   "metadata": {},
   "outputs": [
    {
     "name": "stdout",
     "output_type": "stream",
     "text": [
      "100 81\n",
      "101 82\n",
      "102 83\n",
      "103 84\n",
      "104 85\n",
      "105 86\n",
      "106 87\n",
      "107 88\n",
      "108 89\n",
      "109 90\n"
     ]
    }
   ],
   "source": [
    "#Solution\n",
    "g = lambda x: x**2 if x > 5 in range(10) else 0\n",
    "\n",
    "for x,y in enumerate(range(10) , 100):\n",
    "    print(x , y+g(9))"
   ]
  },
  {
   "cell_type": "code",
   "execution_count": 9,
   "metadata": {},
   "outputs": [],
   "source": [
    "#Q4 FOR LOOP AND LIST COMPREHENSION\n",
    "\n",
    "critics = (\"Mustafa\", \"Michael\", \"Callum\", \"George\")\n",
    "films = [\"Akira\", \"Blade Runner 2049\", \"Mr. Robot\", \"The Ten Commandments\"]\n",
    "\n",
    "#DESIRED OUTPUTS\n",
    "#[\"Mustafa's favourite film is Akira\",\n",
    "#\"Michael's favourite film is Blade Runner 2049\",\n",
    "#\"Callum's favourite film is Mr. Robot\",\n",
    "#\"George's favourite film is The Ten Commandments\"]\n"
   ]
  },
  {
   "cell_type": "code",
   "execution_count": 15,
   "metadata": {},
   "outputs": [
    {
     "data": {
      "text/plain": [
       "[\"Mustafa's favorates film is Akira\",\n",
       " \"Michael's favorates film is Blade Runner 2049\",\n",
       " \"Callum's favorates film is Mr. Robot\",\n",
       " \"George's favorates film is The Ten Commandments\"]"
      ]
     },
     "execution_count": 15,
     "metadata": {},
     "output_type": "execute_result"
    }
   ],
   "source": [
    "s = [critics[i] + \"'s favorates film is \" + films[i] for i in range(len(films))]\n",
    "s"
   ]
  },
  {
   "cell_type": "code",
   "execution_count": null,
   "metadata": {},
   "outputs": [],
   "source": []
  }
 ],
 "metadata": {
  "kernelspec": {
   "display_name": "Python 3",
   "language": "python",
   "name": "python3"
  },
  "language_info": {
   "codemirror_mode": {
    "name": "ipython",
    "version": 3
   },
   "file_extension": ".py",
   "mimetype": "text/x-python",
   "name": "python",
   "nbconvert_exporter": "python",
   "pygments_lexer": "ipython3",
   "version": "3.7.2"
  }
 },
 "nbformat": 4,
 "nbformat_minor": 4
}
