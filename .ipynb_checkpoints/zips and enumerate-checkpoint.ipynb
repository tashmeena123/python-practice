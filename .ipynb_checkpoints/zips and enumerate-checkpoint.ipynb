{
 "cells": [
  {
   "cell_type": "code",
   "execution_count": 1,
   "metadata": {},
   "outputs": [],
   "source": [
    "#zip can combine elements from two or more lists into nested tuples\n",
    "#enumerate can generate an integer number next to each output"
   ]
  },
  {
   "cell_type": "code",
   "execution_count": 3,
   "metadata": {},
   "outputs": [
    {
     "name": "stdout",
     "output_type": "stream",
     "text": [
      "10 10\n",
      "11 15\n",
      "12 20\n",
      "13 25\n",
      "14 30\n",
      "15 35\n",
      "16 40\n",
      "17 45\n"
     ]
    }
   ],
   "source": [
    "for count,i in enumerate(range(10,50,5),10):\n",
    "    print(count,i)\n",
    "    \n",
    "#count is the counting of output \"10\" in enum bracket indicate where to start counting\n",
    "#if we dont mention any starting number it will start from zero"
   ]
  },
  {
   "cell_type": "code",
   "execution_count": 20,
   "metadata": {},
   "outputs": [
    {
     "data": {
      "text/plain": [
       "zip"
      ]
     },
     "execution_count": 20,
     "metadata": {},
     "output_type": "execute_result"
    }
   ],
   "source": [
    "tup1 = (10 , 67 , 89)\n",
    "list1 = [23 , 54 , 43]\n",
    "x = zip(tup1,list1)\n",
    "type(x)"
   ]
  },
  {
   "cell_type": "code",
   "execution_count": 21,
   "metadata": {},
   "outputs": [
    {
     "name": "stdout",
     "output_type": "stream",
     "text": [
      "<zip object at 0x012EBC60>\n",
      "[(10, 23), (67, 54), (89, 43)]\n"
     ]
    }
   ],
   "source": [
    "y = list(x)\n",
    "print(x)\n",
    "print(y)"
   ]
  },
  {
   "cell_type": "code",
   "execution_count": 22,
   "metadata": {},
   "outputs": [
    {
     "name": "stdout",
     "output_type": "stream",
     "text": [
      "10  +  23  =  33\n",
      "67  +  54  =  121\n",
      "89  +  43  =  132\n"
     ]
    }
   ],
   "source": [
    "for a,b in y:\n",
    "    print(a , \" + \" , b ,\" = \" , a+b)"
   ]
  },
  {
   "cell_type": "code",
   "execution_count": 25,
   "metadata": {},
   "outputs": [
    {
     "data": {
      "text/plain": [
       "[(10, 3), (20, 2), (30, 1)]"
      ]
     },
     "execution_count": 25,
     "metadata": {},
     "output_type": "execute_result"
    }
   ],
   "source": [
    "numbers = list(range(10 , 60 , 10))\n",
    "value = [3 , 2 , 1]\n",
    "zip_val = list(zip(numbers,value))\n",
    "zip_val\n",
    "#as shown in the output it will zip only till the lowest index among the two if both have uneqal length  "
   ]
  },
  {
   "cell_type": "code",
   "execution_count": 27,
   "metadata": {},
   "outputs": [
    {
     "data": {
      "text/plain": [
       "[(10, 3), (20, 2), (30, 1), (40, 3), (50, 2)]"
      ]
     },
     "execution_count": 27,
     "metadata": {},
     "output_type": "execute_result"
    }
   ],
   "source": [
    "#to avoid these we can use itertools package\n",
    "\n",
    "import itertools\n",
    "from itertools import cycle as cy\n",
    "\n",
    "zip_new = list(zip(numbers,cy(value)))\n",
    "zip_new"
   ]
  },
  {
   "cell_type": "code",
   "execution_count": 30,
   "metadata": {},
   "outputs": [
    {
     "name": "stdout",
     "output_type": "stream",
     "text": [
      "[(10, 2, 5), (20, 2, 5), (30, 2, 5), (40, 2, 5), (50, 2, 5)]\n"
     ]
    }
   ],
   "source": [
    "val1 = [2] ; val2 = [5]\n",
    "zip2 = list(zip(numbers,cy(val1),cy(val2)))\n",
    "print(zip2)\n",
    "#we can use zip only on list,tuples and not on seperate integers,float value"
   ]
  },
  {
   "cell_type": "code",
   "execution_count": 32,
   "metadata": {},
   "outputs": [
    {
     "name": "stdout",
     "output_type": "stream",
     "text": [
      "[100, 200, 300, 400, 500]\n"
     ]
    }
   ],
   "source": [
    "result = []\n",
    "for a,b,c in zip2:\n",
    "    result.append(a*b*c)\n",
    "print(result)   "
   ]
  },
  {
   "cell_type": "code",
   "execution_count": null,
   "metadata": {},
   "outputs": [],
   "source": []
  }
 ],
 "metadata": {
  "kernelspec": {
   "display_name": "Python 3",
   "language": "python",
   "name": "python3"
  },
  "language_info": {
   "codemirror_mode": {
    "name": "ipython",
    "version": 3
   },
   "file_extension": ".py",
   "mimetype": "text/x-python",
   "name": "python",
   "nbconvert_exporter": "python",
   "pygments_lexer": "ipython3",
   "version": "3.7.2"
  }
 },
 "nbformat": 4,
 "nbformat_minor": 4
}
