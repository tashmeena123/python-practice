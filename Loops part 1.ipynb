{
 "cells": [
  {
   "cell_type": "code",
   "execution_count": 1,
   "metadata": {},
   "outputs": [
    {
     "name": "stdout",
     "output_type": "stream",
     "text": [
      "0\n",
      "1\n",
      "2\n",
      "3\n",
      "4\n"
     ]
    }
   ],
   "source": [
    "#basic for loop\n",
    "for i in range(5):\n",
    "    print(i)"
   ]
  },
  {
   "cell_type": "code",
   "execution_count": 2,
   "metadata": {},
   "outputs": [
    {
     "name": "stdout",
     "output_type": "stream",
     "text": [
      "honda\n",
      "maruti\n",
      "jaguar\n"
     ]
    }
   ],
   "source": [
    "#to use in strings\n",
    "cars = [\"honda\" , \"maruti\" , \"jaguar\"]\n",
    "\n",
    "for car in cars:\n",
    "    print(car)"
   ]
  },
  {
   "cell_type": "code",
   "execution_count": 4,
   "metadata": {},
   "outputs": [
    {
     "name": "stdout",
     "output_type": "stream",
     "text": [
      "0 0 0\n",
      "1 1 3\n",
      "2 4 6\n",
      "3 9 9\n",
      "4 16 12\n"
     ]
    }
   ],
   "source": [
    "for i in range(5):\n",
    "    print(i , i**2 , i+i+i)"
   ]
  },
  {
   "cell_type": "code",
   "execution_count": 9,
   "metadata": {},
   "outputs": [
    {
     "name": "stdout",
     "output_type": "stream",
     "text": [
      "1\n",
      "2\n",
      "3\n",
      "\n",
      "\n",
      "4\n",
      "5\n",
      "6\n",
      "\n",
      "\n",
      "honda\n",
      "maruti\n",
      "jaguar\n",
      "\n",
      "\n"
     ]
    }
   ],
   "source": [
    "nest = [[1,2,3] , [4,5,6] , [\"honda\" , \"maruti\" , \"jaguar\"]]\n",
    "\n",
    "for i in range (3):\n",
    "    for j in range (3):\n",
    "        print(nest[i][j])\n",
    "    print(\"\\n\")"
   ]
  },
  {
   "cell_type": "code",
   "execution_count": 13,
   "metadata": {},
   "outputs": [
    {
     "name": "stdout",
     "output_type": "stream",
     "text": [
      "Honda: Power level : 5\n",
      "Maruti: Power level : 7\n",
      "Jaguar: Power level : 9\n"
     ]
    }
   ],
   "source": [
    "for i in range(3):\n",
    "    total = nest[0][i] + nest[1][i]\n",
    "    \n",
    "    print(nest[2][i].capitalize() + \": Power level :\" ,total)"
   ]
  },
  {
   "cell_type": "code",
   "execution_count": 14,
   "metadata": {},
   "outputs": [
    {
     "data": {
      "text/plain": [
       "['Honda: Power level :5', 'Maruti: Power level :7', 'Jaguar: Power level :9']"
      ]
     },
     "execution_count": 14,
     "metadata": {},
     "output_type": "execute_result"
    }
   ],
   "source": [
    "weapon = []\n",
    "for i in range(3):   \n",
    "    value = nest[2][i].capitalize() + \": Power level :\" + str(nest[0][i] + nest[1][i])\n",
    "    weapon.append(value)\n",
    "    \n",
    "weapon"
   ]
  },
  {
   "cell_type": "code",
   "execution_count": 15,
   "metadata": {},
   "outputs": [
    {
     "name": "stdout",
     "output_type": "stream",
     "text": [
      "1 * 1 = 1\n",
      "2 * 2 = 4\n",
      "3 * 3 = 9\n",
      "4 * 4 = 16\n",
      "5 * 5 = 25\n"
     ]
    }
   ],
   "source": [
    "for i in range(1,6):\n",
    "    print(\"{} * {} = {}\".format(i,i,(i*i)))"
   ]
  },
  {
   "cell_type": "code",
   "execution_count": 22,
   "metadata": {},
   "outputs": [
    {
     "name": "stdout",
     "output_type": "stream",
     "text": [
      "1 * 1 = 1\n",
      "2 * 2 = 4\n",
      "3 * 3 = 9\n",
      "4 * 4 = 16\n",
      "5 * 5 = 25\n"
     ]
    }
   ],
   "source": [
    "for i in range(1,6):\n",
    "    print(\"%d * %d = %d\" % (i,i,i*i))"
   ]
  },
  {
   "cell_type": "code",
   "execution_count": 31,
   "metadata": {},
   "outputs": [
    {
     "name": "stdout",
     "output_type": "stream",
     "text": [
      "(1, 2, 3)\n",
      "['a', 'b', 'c']\n",
      "[10, 20, 30]\n",
      "1 2 3\n",
      "a b c\n",
      "10 20 30\n"
     ]
    }
   ],
   "source": [
    "#tuple unpacking\n",
    "top = ((1,2,3) , [\"a\",\"b\",\"c\"] , [10,20,30])\n",
    "for t in top:\n",
    "    print(t)\n",
    "    \n",
    "for a,b,c in top:\n",
    "    print(a,b,c)"
   ]
  },
  {
   "cell_type": "code",
   "execution_count": 32,
   "metadata": {},
   "outputs": [
    {
     "name": "stdout",
     "output_type": "stream",
     "text": [
      "1 2 3\n"
     ]
    },
    {
     "ename": "ValueError",
     "evalue": "not enough values to unpack (expected 3, got 2)",
     "output_type": "error",
     "traceback": [
      "\u001b[1;31m---------------------------------------------------------------------------\u001b[0m",
      "\u001b[1;31mValueError\u001b[0m                                Traceback (most recent call last)",
      "\u001b[1;32m<ipython-input-32-7aebc522f8b8>\u001b[0m in \u001b[0;36m<module>\u001b[1;34m\u001b[0m\n\u001b[0;32m      1\u001b[0m \u001b[0mtop1\u001b[0m \u001b[1;33m=\u001b[0m \u001b[1;33m(\u001b[0m\u001b[1;33m(\u001b[0m\u001b[1;36m1\u001b[0m\u001b[1;33m,\u001b[0m\u001b[1;36m2\u001b[0m\u001b[1;33m,\u001b[0m\u001b[1;36m3\u001b[0m\u001b[1;33m)\u001b[0m \u001b[1;33m,\u001b[0m \u001b[1;33m(\u001b[0m\u001b[1;34m\"a\"\u001b[0m\u001b[1;33m,\u001b[0m\u001b[1;34m\"b\"\u001b[0m\u001b[1;33m)\u001b[0m \u001b[1;33m,\u001b[0m \u001b[1;33m(\u001b[0m\u001b[1;36m10\u001b[0m\u001b[1;33m,\u001b[0m\u001b[1;36m20\u001b[0m\u001b[1;33m,\u001b[0m\u001b[1;36m30\u001b[0m\u001b[1;33m)\u001b[0m\u001b[1;33m)\u001b[0m\u001b[1;33m\u001b[0m\u001b[1;33m\u001b[0m\u001b[0m\n\u001b[0;32m      2\u001b[0m \u001b[1;33m\u001b[0m\u001b[0m\n\u001b[1;32m----> 3\u001b[1;33m \u001b[1;32mfor\u001b[0m \u001b[0ma\u001b[0m\u001b[1;33m,\u001b[0m\u001b[0mb\u001b[0m\u001b[1;33m,\u001b[0m\u001b[0mc\u001b[0m \u001b[1;32min\u001b[0m \u001b[0mtop1\u001b[0m\u001b[1;33m:\u001b[0m\u001b[1;33m\u001b[0m\u001b[1;33m\u001b[0m\u001b[0m\n\u001b[0m\u001b[0;32m      4\u001b[0m     \u001b[0mprint\u001b[0m\u001b[1;33m(\u001b[0m\u001b[0ma\u001b[0m\u001b[1;33m,\u001b[0m\u001b[0mb\u001b[0m\u001b[1;33m,\u001b[0m\u001b[0mc\u001b[0m\u001b[1;33m)\u001b[0m\u001b[1;33m\u001b[0m\u001b[1;33m\u001b[0m\u001b[0m\n\u001b[0;32m      5\u001b[0m \u001b[1;33m\u001b[0m\u001b[0m\n",
      "\u001b[1;31mValueError\u001b[0m: not enough values to unpack (expected 3, got 2)"
     ]
    }
   ],
   "source": [
    "top1 = ((1,2,3) , (\"a\",\"b\") , (10,20,30))\n",
    "\n",
    "for a,b,c in top1:\n",
    "    print(a,b,c)   \n",
    "    \n",
    "#thus for tuple unpacking eack nested tuple should have same length also for variable also should have same number of variables\n",
    "#also it can be used for list"
   ]
  },
  {
   "cell_type": "code",
   "execution_count": 1,
   "metadata": {},
   "outputs": [
    {
     "name": "stdout",
     "output_type": "stream",
     "text": [
      "k1\n",
      "k2\n"
     ]
    }
   ],
   "source": [
    "cakes = [\"chocolate\" , \"vanilla\" , \"fruits\" , \"mango\"]\n",
    "d1 = {\"k1\" : tuple(cakes) ,\"k2\" : [10 , 20 , 30 , 40]}\n",
    "\n",
    "for d in d1:\n",
    "    print(d)"
   ]
  },
  {
   "cell_type": "code",
   "execution_count": 2,
   "metadata": {},
   "outputs": [
    {
     "name": "stdout",
     "output_type": "stream",
     "text": [
      "chocolate\n",
      "vanilla\n",
      "fruits\n",
      "mango\n"
     ]
    }
   ],
   "source": [
    "for x in d1[\"k1\"]:\n",
    "    print(x)"
   ]
  },
  {
   "cell_type": "code",
   "execution_count": 3,
   "metadata": {},
   "outputs": [
    {
     "name": "stdout",
     "output_type": "stream",
     "text": [
      "k1  :  chocolate\n",
      "k1  :  vanilla\n",
      "k1  :  fruits\n",
      "k1  :  mango\n",
      "k2  :  10\n",
      "k2  :  20\n",
      "k2  :  30\n",
      "k2  :  40\n"
     ]
    }
   ],
   "source": [
    "for x in d1:\n",
    "    for y in range(len(cakes)):\n",
    "        print(x ,\" : \", d1[x][y])"
   ]
  },
  {
   "cell_type": "code",
   "execution_count": 5,
   "metadata": {},
   "outputs": [
    {
     "name": "stdout",
     "output_type": "stream",
     "text": [
      "chocolate  => sweetness level =>  sweet\n",
      "vanilla  => sweetness level =>  ok\n",
      "fruits  => sweetness level =>  very sweet\n",
      "mango  => sweetness level =>  sour\n"
     ]
    }
   ],
   "source": [
    "sweet = [\"sweet\" , \"ok\" , \"very sweet\" , \"sour\"]\n",
    "\n",
    "for i in range(len(sweet)):\n",
    "    print(cakes[i], \" => sweetness level => \" ,sweet[i])"
   ]
  },
  {
   "cell_type": "code",
   "execution_count": null,
   "metadata": {},
   "outputs": [],
   "source": []
  }
 ],
 "metadata": {
  "kernelspec": {
   "display_name": "Python 3",
   "language": "python",
   "name": "python3"
  },
  "language_info": {
   "codemirror_mode": {
    "name": "ipython",
    "version": 3
   },
   "file_extension": ".py",
   "mimetype": "text/x-python",
   "name": "python",
   "nbconvert_exporter": "python",
   "pygments_lexer": "ipython3",
   "version": "3.7.2"
  }
 },
 "nbformat": 4,
 "nbformat_minor": 4
}
