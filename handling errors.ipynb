{
 "cells": [
  {
   "cell_type": "code",
   "execution_count": 2,
   "metadata": {},
   "outputs": [],
   "source": [
    "#Lambda\n",
    "#they are anonymous functions,meaning it does not require def\n",
    "#can only be use as a substitute for a single line function\n",
    "#does not have return\n",
    "#cannot have docstring\n",
    "#syntax  var = lambda variable list:expression"
   ]
  },
  {
   "cell_type": "code",
   "execution_count": 6,
   "metadata": {},
   "outputs": [
    {
     "data": {
      "text/plain": [
       "3146"
      ]
     },
     "execution_count": 6,
     "metadata": {},
     "output_type": "execute_result"
    }
   ],
   "source": [
    "l1 = lambda x = 3 , y  = 1 , z = 1  : x + y * z\n",
    "l1(10,32,98)"
   ]
  },
  {
   "cell_type": "code",
   "execution_count": 9,
   "metadata": {},
   "outputs": [
    {
     "data": {
      "text/plain": [
       "True"
      ]
     },
     "execution_count": 9,
     "metadata": {},
     "output_type": "execute_result"
    }
   ],
   "source": [
    "l2 = lambda val : val % 3 == 0 or val > 10\n",
    "l2(20)"
   ]
  },
  {
   "cell_type": "code",
   "execution_count": 10,
   "metadata": {},
   "outputs": [
    {
     "data": {
      "text/plain": [
       "19"
      ]
     },
     "execution_count": 10,
     "metadata": {},
     "output_type": "execute_result"
    }
   ],
   "source": [
    "def compare(a , b):\n",
    "    if a>b:\n",
    "        return a\n",
    "    else:\n",
    "        return b\n",
    "    \n",
    "compare(19,5)"
   ]
  },
  {
   "cell_type": "code",
   "execution_count": 13,
   "metadata": {},
   "outputs": [
    {
     "data": {
      "text/plain": [
       "19"
      ]
     },
     "execution_count": 13,
     "metadata": {},
     "output_type": "execute_result"
    }
   ],
   "source": [
    "#converting above into an lambda\n",
    "l3 = lambda a , b : a if a > b else b\n",
    "\n",
    "l3(19,5)"
   ]
  },
  {
   "cell_type": "code",
   "execution_count": 15,
   "metadata": {},
   "outputs": [
    {
     "data": {
      "text/plain": [
       "'large'"
      ]
     },
     "execution_count": 15,
     "metadata": {},
     "output_type": "execute_result"
    }
   ],
   "source": [
    "l4 = lambda size : \"small\" if size < 50 else \"large\"\n",
    "\n",
    "l4(76)"
   ]
  },
  {
   "cell_type": "code",
   "execution_count": 17,
   "metadata": {},
   "outputs": [
    {
     "name": "stdout",
     "output_type": "stream",
     "text": [
      "some information\n"
     ]
    }
   ],
   "source": [
    "x = \"some information\"\n",
    "l5 = lambda x : print(x)\n",
    "l5(x)"
   ]
  },
  {
   "cell_type": "code",
   "execution_count": 18,
   "metadata": {},
   "outputs": [],
   "source": [
    "#try , except , finally\n",
    "#here we can have some error in particular loc, but we still want to execute the the loc after that code\n",
    "#Here we can use try except, if the code present in try part have some error in syntax or other errors\n",
    "#it will execute the except part without stopping the flow. But if the code in try part is correct the code in \n",
    "#except part wont be executed. In finally ,the code present will be executed anyhow if there no error in that code"
   ]
  },
  {
   "cell_type": "code",
   "execution_count": 20,
   "metadata": {},
   "outputs": [
    {
     "name": "stdout",
     "output_type": "stream",
     "text": [
      "0\n",
      "2\n",
      "4\n",
      "LOC in finally\n"
     ]
    }
   ],
   "source": [
    "try:\n",
    "    print(10 + \"80\") \n",
    "except:\n",
    "    for i in range(5):\n",
    "        if i%2 == 0:\n",
    "            print(i)\n",
    "finally:\n",
    "    print(\"LOC in finally\")\n",
    "    \n",
    "#here we can see there is an error is try then also the except part is executed and so is finally"
   ]
  },
  {
   "cell_type": "code",
   "execution_count": 22,
   "metadata": {},
   "outputs": [
    {
     "name": "stdout",
     "output_type": "stream",
     "text": [
      "90\n",
      "LOC in finally\n"
     ]
    }
   ],
   "source": [
    "try:\n",
    "    print(10 + 80) \n",
    "except:\n",
    "    for i in range(5):\n",
    "        if i%2 == 0:\n",
    "            print(i)\n",
    "finally:\n",
    "    print(\"LOC in finally\")\n",
    "    \n",
    "#here we can see the try part is executed but not the except part bcox code in try is correct"
   ]
  },
  {
   "cell_type": "code",
   "execution_count": 24,
   "metadata": {},
   "outputs": [
    {
     "name": "stdout",
     "output_type": "stream",
     "text": [
      "LOC in finally\n"
     ]
    },
    {
     "ename": "TypeError",
     "evalue": "range expected 1 arguments, got 0",
     "output_type": "error",
     "traceback": [
      "\u001b[1;31m---------------------------------------------------------------------------\u001b[0m",
      "\u001b[1;31mTypeError\u001b[0m                                 Traceback (most recent call last)",
      "\u001b[1;32m<ipython-input-24-47c898758158>\u001b[0m in \u001b[0;36m<module>\u001b[1;34m\u001b[0m\n\u001b[0;32m      1\u001b[0m \u001b[1;32mtry\u001b[0m\u001b[1;33m:\u001b[0m\u001b[1;33m\u001b[0m\u001b[1;33m\u001b[0m\u001b[0m\n\u001b[1;32m----> 2\u001b[1;33m     \u001b[0mprint\u001b[0m\u001b[1;33m(\u001b[0m\u001b[1;36m10\u001b[0m \u001b[1;33m+\u001b[0m \u001b[1;34m\"80\"\u001b[0m\u001b[1;33m)\u001b[0m\u001b[1;33m\u001b[0m\u001b[1;33m\u001b[0m\u001b[0m\n\u001b[0m\u001b[0;32m      3\u001b[0m \u001b[1;32mexcept\u001b[0m\u001b[1;33m:\u001b[0m\u001b[1;33m\u001b[0m\u001b[1;33m\u001b[0m\u001b[0m\n",
      "\u001b[1;31mTypeError\u001b[0m: unsupported operand type(s) for +: 'int' and 'str'",
      "\nDuring handling of the above exception, another exception occurred:\n",
      "\u001b[1;31mTypeError\u001b[0m                                 Traceback (most recent call last)",
      "\u001b[1;32m<ipython-input-24-47c898758158>\u001b[0m in \u001b[0;36m<module>\u001b[1;34m\u001b[0m\n\u001b[0;32m      2\u001b[0m     \u001b[0mprint\u001b[0m\u001b[1;33m(\u001b[0m\u001b[1;36m10\u001b[0m \u001b[1;33m+\u001b[0m \u001b[1;34m\"80\"\u001b[0m\u001b[1;33m)\u001b[0m\u001b[1;33m\u001b[0m\u001b[1;33m\u001b[0m\u001b[0m\n\u001b[0;32m      3\u001b[0m \u001b[1;32mexcept\u001b[0m\u001b[1;33m:\u001b[0m\u001b[1;33m\u001b[0m\u001b[1;33m\u001b[0m\u001b[0m\n\u001b[1;32m----> 4\u001b[1;33m     \u001b[1;32mfor\u001b[0m \u001b[0mi\u001b[0m \u001b[1;32min\u001b[0m \u001b[0mrange\u001b[0m\u001b[1;33m(\u001b[0m\u001b[1;33m)\u001b[0m\u001b[1;33m:\u001b[0m\u001b[1;33m\u001b[0m\u001b[1;33m\u001b[0m\u001b[0m\n\u001b[0m\u001b[0;32m      5\u001b[0m         \u001b[1;32mif\u001b[0m \u001b[0mi\u001b[0m\u001b[1;33m%\u001b[0m\u001b[1;36m2\u001b[0m \u001b[1;33m==\u001b[0m \u001b[1;36m0\u001b[0m\u001b[1;33m:\u001b[0m\u001b[1;33m\u001b[0m\u001b[1;33m\u001b[0m\u001b[0m\n\u001b[0;32m      6\u001b[0m             \u001b[0mprint\u001b[0m\u001b[1;33m(\u001b[0m\u001b[0mi\u001b[0m\u001b[1;33m)\u001b[0m\u001b[1;33m\u001b[0m\u001b[1;33m\u001b[0m\u001b[0m\n",
      "\u001b[1;31mTypeError\u001b[0m: range expected 1 arguments, got 0"
     ]
    }
   ],
   "source": [
    "try:\n",
    "    print(10 + \"80\") \n",
    "except:\n",
    "    for i in range():\n",
    "        if i%2 == 0:\n",
    "            print(i)\n",
    "finally:\n",
    "    print(\"LOC in finally\")\n",
    "    \n",
    "#here there is an error in both try and except so the errors are raise, but the code in finally is still executed"
   ]
  },
  {
   "cell_type": "code",
   "execution_count": 31,
   "metadata": {},
   "outputs": [
    {
     "name": "stdout",
     "output_type": "stream",
     "text": [
      "Enter a number : 98\n",
      "108\n",
      "Enter a int value only\n",
      "Enter a number : hello\n",
      "TYPE ERROR\n",
      "10 + hello\n",
      "Enter a int value only\n"
     ]
    }
   ],
   "source": [
    "def test(string):\n",
    "    try:\n",
    "        x = 10 + string\n",
    "        print(x)\n",
    "    except:\n",
    "        print(\"TYPE ERROR\")\n",
    "        print(str(10) + \" + \" + string)\n",
    "    finally:\n",
    "        print(\"Enter a int value only\")\n",
    "        \n",
    "val = eval(input(\"Enter a number : \"))\n",
    "test(val)\n",
    "\n",
    "val = input(\"Enter a number : \")\n",
    "test(val)"
   ]
  },
  {
   "cell_type": "code",
   "execution_count": 33,
   "metadata": {},
   "outputs": [],
   "source": [
    "#we can use multiole except clause but the name in except sould be the name of the error in camel case\n",
    "#different type of error\n",
    "#type error\n",
    "#name error\n",
    "#attribute error \n",
    "#indentation error\n",
    "#syntax error\n",
    "#zero division error"
   ]
  },
  {
   "cell_type": "code",
   "execution_count": 36,
   "metadata": {},
   "outputs": [
    {
     "data": {
      "text/plain": [
       "0.25"
      ]
     },
     "execution_count": 36,
     "metadata": {},
     "output_type": "execute_result"
    }
   ],
   "source": [
    "def divide(x,y):\n",
    "    try:\n",
    "        res = x/y\n",
    "        return res\n",
    "    except ZeroDivisionError:\n",
    "        print(\"Dvide by zero error\")\n",
    "    except TypeError:\n",
    "        print(\"int cannot be divide by string\")\n",
    "        \n",
    "divide(2,8)"
   ]
  },
  {
   "cell_type": "code",
   "execution_count": 37,
   "metadata": {},
   "outputs": [
    {
     "name": "stdout",
     "output_type": "stream",
     "text": [
      "Dvide by zero\n"
     ]
    }
   ],
   "source": [
    "divide(10,0)"
   ]
  },
  {
   "cell_type": "code",
   "execution_count": 40,
   "metadata": {},
   "outputs": [
    {
     "name": "stdout",
     "output_type": "stream",
     "text": [
      "int cannot be divide by string\n"
     ]
    }
   ],
   "source": [
    "divide(80,\"hello\")"
   ]
  },
  {
   "cell_type": "code",
   "execution_count": 1,
   "metadata": {},
   "outputs": [
    {
     "name": "stdout",
     "output_type": "stream",
     "text": [
      "enter a number: kl\n",
      "invalid input\n",
      "enter a number: 98\n"
     ]
    }
   ],
   "source": [
    "while True:\n",
    "    try:\n",
    "        x = eval(input(\"enter a number: \"))\n",
    "        break\n",
    "    except:\n",
    "        print(\"invalid input\")"
   ]
  },
  {
   "cell_type": "code",
   "execution_count": 1,
   "metadata": {},
   "outputs": [
    {
     "name": "stdout",
     "output_type": "stream",
     "text": [
      "Enter a number : 99\n",
      "99 is not in number list\n",
      "Enter a number : lki\n",
      "try again\n",
      "Enter a number : 87\n",
      "87 is not in number list\n",
      "Enter a number : quit\n"
     ]
    }
   ],
   "source": [
    "numbers = [19, 4, 65 , 98]\n",
    "\n",
    "while True:\n",
    "    try:\n",
    "        num = input(\"Enter a number : \")\n",
    "        if eval(num) in numbers:\n",
    "            print(num , \"is in number list\")\n",
    "            break\n",
    "        elif num == \"quit\":\n",
    "            break\n",
    "        else:\n",
    "            print(num , \"is not in number list\")\n",
    "            \n",
    "    except:\n",
    "        print(\"try again\")\n",
    "        continue"
   ]
  },
  {
   "cell_type": "code",
   "execution_count": 9,
   "metadata": {},
   "outputs": [
    {
     "name": "stdout",
     "output_type": "stream",
     "text": [
      "Choose a friend : 3\n",
      "girrafe\n",
      "_______________\n",
      "friends list\n",
      "cat\n",
      "dog\n",
      "puppy\n",
      "girrafe\n",
      "lamb\n",
      "________________\n"
     ]
    }
   ],
   "source": [
    "def friends():\n",
    "    animals = \"cat\" , \"dog\" , \"puppy\" ,\"girrafe\" , \"lamb\"\n",
    "    \n",
    "    try:        \n",
    "        choose = int(input(\"Choose a friend : \"))\n",
    "        try:\n",
    "            if animals[choose] in animals:\n",
    "                print(animals[choose])\n",
    "        except:\n",
    "            print(\"no friends choosen\")\n",
    "            \n",
    "        finally:\n",
    "            print(\"_______________\")\n",
    "            print(\"friends list\")\n",
    "            for i in animals:\n",
    "                print(i)\n",
    "            print(\"________________\")    \n",
    "    except:\n",
    "        print(\"select a valind input\")\n",
    "        \n",
    "friends()"
   ]
  },
  {
   "cell_type": "code",
   "execution_count": 10,
   "metadata": {},
   "outputs": [
    {
     "name": "stdout",
     "output_type": "stream",
     "text": [
      "Choose a friend : ui\n",
      "select a valind input\n"
     ]
    }
   ],
   "source": [
    "friends()"
   ]
  },
  {
   "cell_type": "code",
   "execution_count": 8,
   "metadata": {},
   "outputs": [
    {
     "name": "stdout",
     "output_type": "stream",
     "text": [
      "Choose a friend : 8.76\n",
      "select a valind input\n"
     ]
    }
   ],
   "source": [
    "friends() #to avoid these we use eval so it will concert float value into int"
   ]
  },
  {
   "cell_type": "code",
   "execution_count": 11,
   "metadata": {},
   "outputs": [
    {
     "name": "stdout",
     "output_type": "stream",
     "text": [
      "Choose a friend : 9\n",
      "no friends choosen\n",
      "_______________\n",
      "friends list\n",
      "cat\n",
      "dog\n",
      "puppy\n",
      "girrafe\n",
      "lamb\n",
      "________________\n"
     ]
    }
   ],
   "source": [
    "friends()"
   ]
  },
  {
   "cell_type": "code",
   "execution_count": null,
   "metadata": {},
   "outputs": [],
   "source": []
  }
 ],
 "metadata": {
  "kernelspec": {
   "display_name": "Python 3",
   "language": "python",
   "name": "python3"
  },
  "language_info": {
   "codemirror_mode": {
    "name": "ipython",
    "version": 3
   },
   "file_extension": ".py",
   "mimetype": "text/x-python",
   "name": "python",
   "nbconvert_exporter": "python",
   "pygments_lexer": "ipython3",
   "version": "3.7.2"
  }
 },
 "nbformat": 4,
 "nbformat_minor": 4
}
