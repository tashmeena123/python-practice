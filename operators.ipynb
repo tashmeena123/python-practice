{
 "cells": [
  {
   "cell_type": "code",
   "execution_count": 1,
   "metadata": {},
   "outputs": [
    {
     "name": "stdout",
     "output_type": "stream",
     "text": [
      "6.666666666666667\n",
      "6\n",
      "4\n",
      "16\n"
     ]
    }
   ],
   "source": [
    "var  = 6\n",
    "print(40/var)\n",
    "print(40//var) #floor division\n",
    "print(40%var)  #modulo\n",
    "print(40-(4*var))"
   ]
  },
  {
   "cell_type": "code",
   "execution_count": 5,
   "metadata": {},
   "outputs": [
    {
     "name": "stdout",
     "output_type": "stream",
     "text": [
      "<class 'int'>\n",
      "6.0\n",
      "8\n"
     ]
    }
   ],
   "source": [
    "x,y,z = 3,6,8.67\n",
    "print(type(y))\n",
    "y_change = float(y)\n",
    "z_change = int(z)\n",
    "print(y_change)\n",
    "print(z_change)"
   ]
  },
  {
   "cell_type": "code",
   "execution_count": 6,
   "metadata": {},
   "outputs": [],
   "source": [
    "#comparison operator  :  >,<,=,<=,>=,==,!=\n",
    "#Boolean operator  :  true, false\n",
    "#inverse boolean :  not\n",
    "#membership operators  :  in\n",
    "#other operators  :  and,or"
   ]
  },
  {
   "cell_type": "code",
   "execution_count": 9,
   "metadata": {},
   "outputs": [
    {
     "name": "stdout",
     "output_type": "stream",
     "text": [
      "True\n",
      "False\n"
     ]
    }
   ],
   "source": [
    "print(10>5 and 4==4 or 10!=4)\n",
    "print(10>5 and 4==4 and 10==4)"
   ]
  },
  {
   "cell_type": "code",
   "execution_count": 10,
   "metadata": {},
   "outputs": [
    {
     "name": "stdout",
     "output_type": "stream",
     "text": [
      "True\n",
      "False\n"
     ]
    }
   ],
   "source": [
    "var = \"house\" \n",
    "var1 = \"temple\"\n",
    "var2 = \"stairs\"\n",
    "print(\"s\" in var and \"p\" in var1)\n",
    "print(\"s\" in var and \"p\" in var2)"
   ]
  },
  {
   "cell_type": "code",
   "execution_count": 11,
   "metadata": {},
   "outputs": [
    {
     "name": "stdout",
     "output_type": "stream",
     "text": [
      "house temple stairs\n"
     ]
    }
   ],
   "source": [
    "print(var,var1,var2)"
   ]
  }
 ],
 "metadata": {
  "kernelspec": {
   "display_name": "Python 3",
   "language": "python",
   "name": "python3"
  },
  "language_info": {
   "codemirror_mode": {
    "name": "ipython",
    "version": 3
   },
   "file_extension": ".py",
   "mimetype": "text/x-python",
   "name": "python",
   "nbconvert_exporter": "python",
   "pygments_lexer": "ipython3",
   "version": "3.7.2"
  }
 },
 "nbformat": 4,
 "nbformat_minor": 4
}
