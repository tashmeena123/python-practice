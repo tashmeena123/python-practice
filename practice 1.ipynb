{
 "cells": [
  {
   "cell_type": "code",
   "execution_count": 1,
   "metadata": {},
   "outputs": [],
   "source": [
    "#BASED ON DATA STRUCTURES\n",
    "#Q1 find the sum of all values\n",
    "toys= {\"car\" : \"$40\", \"robot\" : \"$13\" ,\"tank\" : \"$866\"}"
   ]
  },
  {
   "cell_type": "code",
   "execution_count": 69,
   "metadata": {},
   "outputs": [
    {
     "data": {
      "text/plain": [
       "919"
      ]
     },
     "execution_count": 69,
     "metadata": {},
     "output_type": "execute_result"
    }
   ],
   "source": [
    "#solution\n",
    "values = eval(list(toys.values())[0][1:]) + eval(list(toys.values())[1][1:]) +eval(list(toys.values())[2][1:])\n",
    "values"
   ]
  },
  {
   "cell_type": "code",
   "execution_count": 5,
   "metadata": {},
   "outputs": [],
   "source": [
    "#Q2 comparison\n",
    "list1 = [10  4 , 50  50 , 90  10 ,\"c\"  (\"a\", \"b\", \"c\"), 100  100]\n",
    "#use != == in\n",
    "\n",
    "#output = [true,true,false,true,false]"
   ]
  },
  {
   "cell_type": "code",
   "execution_count": 72,
   "metadata": {},
   "outputs": [
    {
     "data": {
      "text/plain": [
       "[True, True, False, True, False]"
      ]
     },
     "execution_count": 72,
     "metadata": {},
     "output_type": "execute_result"
    }
   ],
   "source": [
    "#solution\n",
    "list1 = [10 !=  4 , 50 == 50 , 90 == 10 ,\"c\" in (\"a\", \"b\", \"c\"), 100 != 100]\n",
    "list1"
   ]
  },
  {
   "cell_type": "code",
   "execution_count": 11,
   "metadata": {},
   "outputs": [],
   "source": [
    "#Q3 \n",
    "films = {\"k1\" : \"blade runners\", \"k2\": \"matrix\", \"k3\": \"terminator\"}\n",
    "#desred output comare the length of value and give the output as true"
   ]
  },
  {
   "cell_type": "code",
   "execution_count": 14,
   "metadata": {},
   "outputs": [
    {
     "data": {
      "text/plain": [
       "True"
      ]
     },
     "execution_count": 14,
     "metadata": {},
     "output_type": "execute_result"
    }
   ],
   "source": [
    "#solution\n",
    "value = list(films.values())\n",
    "result = len(value[0])>len(value[1])<len(value[2])\n",
    "result"
   ]
  },
  {
   "cell_type": "code",
   "execution_count": 15,
   "metadata": {},
   "outputs": [],
   "source": [
    "#Q4\n",
    "life_stages = {0: \"embryo\" , 1 : \"fetus\" , 2 : \"baby\" , 3 :\"infant\" , 4: \"teen\"}\n",
    "#add two more values adult and big kid using dictionary method in a new dic"
   ]
  },
  {
   "cell_type": "code",
   "execution_count": 18,
   "metadata": {},
   "outputs": [
    {
     "data": {
      "text/plain": [
       "{0: 'embryo',\n",
       " 1: 'fetus',\n",
       " 2: 'baby',\n",
       " 3: 'infant',\n",
       " 4: 'teen',\n",
       " 5: 'adult',\n",
       " 6: 'big kid'}"
      ]
     },
     "execution_count": 18,
     "metadata": {},
     "output_type": "execute_result"
    }
   ],
   "source": [
    "#solution\n",
    "midlife = {5 : \"adult\" , 6 : \"big kid\"}\n",
    "life_stages.update(midlife)\n",
    "life_stages"
   ]
  },
  {
   "cell_type": "code",
   "execution_count": 19,
   "metadata": {},
   "outputs": [],
   "source": [
    "#Q5 \n",
    "nest1 = [(1,2,3) , { \"k1\" : [8,1,300,2,77] , \"k2\" : [10,20,30]} , [\"a\" , \"500\" , \"c\"]]\n",
    "#output : 833.0\n",
    "#use only sortes and eval"
   ]
  },
  {
   "cell_type": "code",
   "execution_count": 90,
   "metadata": {},
   "outputs": [
    {
     "name": "stdout",
     "output_type": "stream",
     "text": [
      "833.0\n"
     ]
    }
   ],
   "source": [
    "#solution\n",
    "k1 = sorted(nest1[1][\"k1\"])[-1]\n",
    "k2 = sorted(nest1[1][\"k2\"])[-1]\n",
    "k3 = nest1[2][1]\n",
    "k3\n",
    "sum1 = nest1[0][2] + k1 + k2 + k3\n",
    "print(float(sum1))"
   ]
  },
  {
   "cell_type": "code",
   "execution_count": 30,
   "metadata": {},
   "outputs": [],
   "source": [
    "#Q6\n",
    "prices = [\"a\", \"b\", \"9\", \"c\", \"d\", \"FOUR\", \"e\", \"f\", \"2.5\"] \n",
    "sentence = \"\"\"The bill for the {}#!/,?? {}#!/ ??and drink came to { }??\"\"\"\n",
    "#DESIRED OUTPUT \n",
    "#prices = [\"9\", \"FOUR\", \"2.5\"] \n",
    "#'The bill for the pizza, chips and drink came to $15.5'"
   ]
  },
  {
   "cell_type": "code",
   "execution_count": 57,
   "metadata": {},
   "outputs": [
    {
     "name": "stdout",
     "output_type": "stream",
     "text": [
      "$15.5\n",
      "['pizza', 'chips', '$15.5']\n",
      "The bill for the pizza, chips and drink came to $15.5\n"
     ]
    }
   ],
   "source": [
    "#solution\n",
    "new_price = prices[2::3]\n",
    "new_price[1] = \"4\"\n",
    "sum = \"$\" + str(eval(new_price[0])+eval(new_price[1])+eval(new_price[2]))\n",
    "print(sum)\n",
    "add = [\"pizza\" , \"chips\" , sum]\n",
    "print(add)\n",
    "sentence = sentence.replace(\"#!/\",\"\").replace(\"??\",\"\")\n",
    "print(\"The bill for the {}, {} and drink came to {}\".format(*add))\n"
   ]
  }
 ],
 "metadata": {
  "kernelspec": {
   "display_name": "Python 3",
   "language": "python",
   "name": "python3"
  },
  "language_info": {
   "codemirror_mode": {
    "name": "ipython",
    "version": 3
   },
   "file_extension": ".py",
   "mimetype": "text/x-python",
   "name": "python",
   "nbconvert_exporter": "python",
   "pygments_lexer": "ipython3",
   "version": "3.7.2"
  }
 },
 "nbformat": 4,
 "nbformat_minor": 4
}
