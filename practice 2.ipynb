{
 "cells": [
  {
   "cell_type": "code",
   "execution_count": 7,
   "metadata": {},
   "outputs": [
    {
     "name": "stdout",
     "output_type": "stream",
     "text": [
      "Enter a number: 4\n",
      "Where are you?\n"
     ]
    }
   ],
   "source": [
    "#BASED ON IF ELSE\n",
    "#Question\n",
    "d1 = {\"k1\": [1,2,3, (100, 300, 500)], \"k2\": [4,5,6, [\"phone\", \"computer\", \"robot\"]]} \n",
    "var = eval(input(\"Enter a number: \")) \n",
    "if var in d1[\"k1\"]:\n",
    "    print(\"found you!\") \n",
    "    \n",
    "    num = eval(input(\"Enter a number: \")) \n",
    "    if (num) in d1[\"k2\"][:3]: \n",
    "        print(\"Found another one!\") \n",
    "        \n",
    "        item = input(\"Enter an item: \") \n",
    "        \n",
    "        if item in d1[\"k2\"][3]: \n",
    "            print(\"Got a\", item) \n",
    "        else: \n",
    "            print(\"Can't find a\", item) \n",
    "            \n",
    "    else:\n",
    "        print(\"Can't find anything!\") \n",
    "\n",
    "elif var in d1[\"k1\"][3]:\n",
    "        print(\"can't hide!\") \n",
    "        \n",
    "else:\n",
    "    print(\"Where are you?\")\n",
    "    \n",
    "    \n",
    "#DESIRED OUTPUT 1\n",
    "\n",
    "#Enter a number: 3\n",
    "#found you!\n",
    "#Enter a number: 4\n",
    "#Found another one!\n",
    "#Enter an item: car\n",
    "#Can't find a car\n",
    "\n",
    "#DESIRED OUTPUT 2\n",
    "\n",
    "#Enter a number: 4\n",
    "#Where are you?\n"
   ]
  },
  {
   "cell_type": "code",
   "execution_count": 11,
   "metadata": {},
   "outputs": [
    {
     "name": "stdout",
     "output_type": "stream",
     "text": [
      "Enter a number 0 to 2: 1\n",
      "Enter a number 0 to 2: 2\n",
      "My meal is cold and very savoury !\n"
     ]
    }
   ],
   "source": [
    "#choose_dish = eval(input(\"Enter a number 0 to 2: \"))\n",
    "#pick_sauce = eval(input(\"Enter a number 0 to 2: \"))\n",
    "#cooked_pasta = [\"hot\", \"cold\", \"over cooked\"]\n",
    "#sauce = [\"spicy\", \"sweet\", \"savoury\"]\n",
    "#print(\"My meal is\", cooked_pasta, \"and very\", sauce, \"!\")\n",
    "\n",
    "#DESIRED OUTPUT\n",
    "#Enter a number 0 to 2: 0\n",
    "#Enter a number 0 to 2: 0\n",
    "#My meal is hot and very spicy !\n",
    "\n",
    "\n",
    "choose_dish = eval(input(\"Enter a number 0 to 2: \"))\n",
    "pick_sauce = eval(input(\"Enter a number 0 to 2: \"))\n",
    "\n",
    "if choose_dish > 3 and pick_sauce > 3 or choose_dish < 3 and pick_sauce > 2 or choose_dish > 2 and pick_sauce < 3:\n",
    "    None\n",
    "    \n",
    "else:\n",
    "    cooked_pasta = [\"hot\", \"cold\", \"over cooked\"][choose_dish]\n",
    "    sauce = [\"spicy\", \"sweet\", \"savoury\"][pick_sauce]\n",
    "    print(\"My meal is\", cooked_pasta, \"and very\", sauce, \"!\")"
   ]
  },
  {
   "cell_type": "code",
   "execution_count": null,
   "metadata": {},
   "outputs": [],
   "source": []
  }
 ],
 "metadata": {
  "kernelspec": {
   "display_name": "Python 3",
   "language": "python",
   "name": "python3"
  },
  "language_info": {
   "codemirror_mode": {
    "name": "ipython",
    "version": 3
   },
   "file_extension": ".py",
   "mimetype": "text/x-python",
   "name": "python",
   "nbconvert_exporter": "python",
   "pygments_lexer": "ipython3",
   "version": "3.7.2"
  }
 },
 "nbformat": 4,
 "nbformat_minor": 4
}
