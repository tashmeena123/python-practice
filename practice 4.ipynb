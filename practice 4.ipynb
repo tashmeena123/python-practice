{
 "cells": [
  {
   "cell_type": "code",
   "execution_count": 1,
   "metadata": {},
   "outputs": [
    {
     "data": {
      "text/plain": [
       "[30, 31, 32, 33, 34, 35, 36, 37, 38, 39]"
      ]
     },
     "execution_count": 1,
     "metadata": {},
     "output_type": "execute_result"
    }
   ],
   "source": [
    "#BASED ON LIST COMPREHENSION\n",
    "#Q1\n",
    "simple = []\n",
    "for i in range(10):\n",
    "    s = i+30\n",
    "    simple.append(s)\n",
    "simple"
   ]
  },
  {
   "cell_type": "code",
   "execution_count": 2,
   "metadata": {},
   "outputs": [
    {
     "data": {
      "text/plain": [
       "[30, 31, 32, 33, 34, 35, 36, 37, 38, 39]"
      ]
     },
     "execution_count": 2,
     "metadata": {},
     "output_type": "execute_result"
    }
   ],
   "source": [
    "#solution\n",
    "sim = [i+30 for i in range(10)]\n",
    "sim    "
   ]
  },
  {
   "cell_type": "code",
   "execution_count": 4,
   "metadata": {},
   "outputs": [
    {
     "data": {
      "text/plain": [
       "['the number is 0',\n",
       " 'the number is 1',\n",
       " 'the number is 2',\n",
       " 'the number is 3',\n",
       " 'the number is 4',\n",
       " 'the number is 5',\n",
       " 'the number is 6',\n",
       " 'the number is 7',\n",
       " 'the number is 8',\n",
       " 'the number is 9']"
      ]
     },
     "execution_count": 4,
     "metadata": {},
     "output_type": "execute_result"
    }
   ],
   "source": [
    "#Q2\n",
    "x = 0\n",
    "case = []\n",
    "while x<10:\n",
    "    s = \"the number is \" + str(x)\n",
    "    case.append(s)\n",
    "    x += 1\n",
    "case"
   ]
  },
  {
   "cell_type": "code",
   "execution_count": 6,
   "metadata": {},
   "outputs": [
    {
     "data": {
      "text/plain": [
       "['the number is 0',\n",
       " 'the number is 1',\n",
       " 'the number is 2',\n",
       " 'the number is 3',\n",
       " 'the number is 4',\n",
       " 'the number is 5',\n",
       " 'the number is 6',\n",
       " 'the number is 7',\n",
       " 'the number is 8',\n",
       " 'the number is 9']"
      ]
     },
     "execution_count": 6,
     "metadata": {},
     "output_type": "execute_result"
    }
   ],
   "source": [
    "case1 = [\"the number is \" + str(i) for i in range(10)]\n",
    "case1"
   ]
  },
  {
   "cell_type": "code",
   "execution_count": 7,
   "metadata": {},
   "outputs": [],
   "source": [
    "#Q3\n",
    "#[1728,2744,4096,5832]\n",
    "#hint\n",
    "#use pow(d,3)\n",
    "#use range(20) and d>10"
   ]
  },
  {
   "cell_type": "code",
   "execution_count": 10,
   "metadata": {},
   "outputs": [
    {
     "data": {
      "text/plain": [
       "[1728, 2744, 4096, 5832]"
      ]
     },
     "execution_count": 10,
     "metadata": {},
     "output_type": "execute_result"
    }
   ],
   "source": [
    "#solution\n",
    "num = [pow(d,3) for d in range(20) if d>10 and d%2 == 0]\n",
    "num"
   ]
  },
  {
   "cell_type": "code",
   "execution_count": 11,
   "metadata": {},
   "outputs": [],
   "source": [
    "#Q4 \n",
    "#d1 = {\"k1\" : [0,21,42,63,84] , \"k2\" : [0,1,4,9,16,25,36,49,64,81]}\n",
    "#d2 = {\"k3\" : [495]}"
   ]
  },
  {
   "cell_type": "code",
   "execution_count": 20,
   "metadata": {},
   "outputs": [
    {
     "name": "stdout",
     "output_type": "stream",
     "text": [
      "{'k1': [0, 21, 42, 63, 84], 'k2': [0, 1, 4, 9, 16, 25, 36, 49, 64, 81]}\n",
      "{'k3': [495]}\n"
     ]
    }
   ],
   "source": [
    "#solution\n",
    "d1 = {\"k1\" : [g+20*g for g in range(20) if g<5] , \"k2\" : [e*e for e in range(20) if e<10]}\n",
    "print(d1)\n",
    "d2 = {\"k3\" : [sum(d1[\"k1\"]) + sum(d1[\"k2\"])]}\n",
    "print(d2)"
   ]
  },
  {
   "cell_type": "code",
   "execution_count": null,
   "metadata": {},
   "outputs": [],
   "source": []
  }
 ],
 "metadata": {
  "kernelspec": {
   "display_name": "Python 3",
   "language": "python",
   "name": "python3"
  },
  "language_info": {
   "codemirror_mode": {
    "name": "ipython",
    "version": 3
   },
   "file_extension": ".py",
   "mimetype": "text/x-python",
   "name": "python",
   "nbconvert_exporter": "python",
   "pygments_lexer": "ipython3",
   "version": "3.7.2"
  }
 },
 "nbformat": 4,
 "nbformat_minor": 4
}
