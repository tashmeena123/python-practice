{
 "cells": [
  {
   "cell_type": "code",
   "execution_count": 6,
   "metadata": {},
   "outputs": [],
   "source": [
    "cat = \"meow\" ; dog = \"bark\" ; animal = \"sounds\""
   ]
  },
  {
   "cell_type": "code",
   "execution_count": 14,
   "metadata": {},
   "outputs": [
    {
     "name": "stdout",
     "output_type": "stream",
     "text": [
      "meow and \n",
      "bark and \n",
      "sounds!!"
     ]
    }
   ],
   "source": [
    "print(cat,dog,animal,sep = \" and \\n\" ,end = \"!!\")"
   ]
  },
  {
   "cell_type": "code",
   "execution_count": 42,
   "metadata": {},
   "outputs": [
    {
     "name": "stdout",
     "output_type": "stream",
     "text": [
      "6\n",
      "Sounds\n",
      "meow\n",
      "3\n"
     ]
    }
   ],
   "source": [
    "print(len(animal))\n",
    "print(animal.capitalize())\n",
    "print(cat.casefold())"
   ]
  },
  {
   "cell_type": "code",
   "execution_count": 29,
   "metadata": {},
   "outputs": [
    {
     "data": {
      "text/plain": [
       "'BARK'"
      ]
     },
     "execution_count": 29,
     "metadata": {},
     "output_type": "execute_result"
    }
   ],
   "source": [
    "dog.upper()"
   ]
  },
  {
   "cell_type": "code",
   "execution_count": 35,
   "metadata": {},
   "outputs": [
    {
     "name": "stdout",
     "output_type": "stream",
     "text": [
      "hello john, how are you\n",
      "thos is class 10\n"
     ]
    }
   ],
   "source": [
    "#string concatenation\n",
    "name = \"john\"\n",
    "print(\"hello \" + name + \", how are you\")\n",
    "num = 10\n",
    "print(\"thos is class \" +str(num)) #we can only concatenate string type otherwise it will throw a error"
   ]
  },
  {
   "cell_type": "code",
   "execution_count": 39,
   "metadata": {},
   "outputs": [
    {
     "name": "stdout",
     "output_type": "stream",
     "text": [
      "3040\n",
      "70\n",
      "70\n"
     ]
    }
   ],
   "source": [
    "print(\"30\" + \"40\") #it will join them as strings\n",
    "print(eval(\"30+40\"))\n",
    "print(eval(\"30\") + eval(\"40\"))"
   ]
  },
  {
   "cell_type": "code",
   "execution_count": 45,
   "metadata": {},
   "outputs": [
    {
     "name": "stdout",
     "output_type": "stream",
     "text": [
      "4\n",
      "0\n",
      "3\n"
     ]
    }
   ],
   "source": [
    "string = \"a a a a b b b c c \"\n",
    "print(string.count(\"a\"))\n",
    "print(string.count(\"A\"))\n",
    "day = \"this is a day day day\"\n",
    "print(day.count(\"day\"))"
   ]
  },
  {
   "cell_type": "code",
   "execution_count": 64,
   "metadata": {},
   "outputs": [
    {
     "name": "stdout",
     "output_type": "stream",
     "text": [
      "//CLEAN THE STRING$$, PLEASE \n",
      "        @@\n",
      "Clean the string, please         \n",
      "//CLEAN THE STRING$$, PLEASE \n",
      "        @@\n",
      "Clean the string, please         \n"
     ]
    }
   ],
   "source": [
    "messy = \"\"\"//CLEAN THE STRING$$, PLEASE \n",
    "        @@\"\"\"\n",
    "print(messy)\n",
    "print(messy.replace(\"//\" , \"\").replace(\"$$\",\"\").replace(\"@@\",\"\").replace(\"\\n\",\"\").capitalize())\n",
    "print(messy) #as seen the operation is not assigned\n",
    "tidy = messy.replace(\"//\" , \"\").replace(\"$$\",\"\").replace(\"@@\",\"\").replace(\"\\n\",\"\").capitalize()\n",
    "print(tidy)"
   ]
  },
  {
   "cell_type": "code",
   "execution_count": 69,
   "metadata": {},
   "outputs": [
    {
     "name": "stdout",
     "output_type": "stream",
     "text": [
      "o , l , d\n"
     ]
    }
   ],
   "source": [
    "#indexing\n",
    "string = \"hello world\"\n",
    "print(string[7],string[9],string[10] , sep=\" , \")"
   ]
  },
  {
   "cell_type": "code",
   "execution_count": 82,
   "metadata": {},
   "outputs": [
    {
     "name": "stdout",
     "output_type": "stream",
     "text": [
      "hell\n",
      "orld\n",
      "o w\n"
     ]
    }
   ],
   "source": [
    "#slicing\n",
    "print(string[:4])\n",
    "print(string[7:])\n",
    "print(string[4:7])"
   ]
  },
  {
   "cell_type": "code",
   "execution_count": 89,
   "metadata": {},
   "outputs": [
    {
     "name": "stdout",
     "output_type": "stream",
     "text": [
      "el ol\n",
      "lo le\n",
      "l e\n"
     ]
    }
   ],
   "source": [
    "#stride\n",
    "print(string[1::2]) #first variable is index of first letter second variable indicates the variable of last letter\n",
    "                    #starting from zero and third varaible is jump to next variable starting from 1\n",
    "print(string[1::2][::-1])"
   ]
  },
  {
   "cell_type": "code",
   "execution_count": 83,
   "metadata": {},
   "outputs": [],
   "source": [
    "lang = \"ram is smarter than shyam!!\""
   ]
  },
  {
   "cell_type": "code",
   "execution_count": 90,
   "metadata": {},
   "outputs": [
    {
     "name": "stdout",
     "output_type": "stream",
     "text": [
      "False\n",
      "True\n",
      "1\n"
     ]
    }
   ],
   "source": [
    "print(lang.endswith(\"o\"))\n",
    "print(lang.endswith(\"!\"))\n",
    "print(lang.find(\"a\"))"
   ]
  },
  {
   "cell_type": "code",
   "execution_count": 95,
   "metadata": {},
   "outputs": [
    {
     "name": "stdout",
     "output_type": "stream",
     "text": [
      "['ram', 'is', 'smarter', 'than', 'shyam!!']\n",
      "5\n",
      "['ram', 'smarter']\n"
     ]
    }
   ],
   "source": [
    "arr = lang.split()\n",
    "print(arr)\n",
    "print(len(arr))\n",
    "print(arr[0:4:2])"
   ]
  },
  {
   "cell_type": "code",
   "execution_count": 98,
   "metadata": {},
   "outputs": [
    {
     "name": "stdout",
     "output_type": "stream",
     "text": [
      "ram is smarter than shyam!!\n"
     ]
    }
   ],
   "source": [
    "print(\" \".join(arr))"
   ]
  },
  {
   "cell_type": "code",
   "execution_count": 99,
   "metadata": {},
   "outputs": [
    {
     "data": {
      "text/plain": [
       "['ram ', ' smarter than shyam!!']"
      ]
     },
     "execution_count": 99,
     "metadata": {},
     "output_type": "execute_result"
    }
   ],
   "source": [
    "lang.split(\"is\")"
   ]
  },
  {
   "cell_type": "code",
   "execution_count": 103,
   "metadata": {},
   "outputs": [
    {
     "name": "stdout",
     "output_type": "stream",
     "text": [
      "john scored 56 marks in maths\n"
     ]
    }
   ],
   "source": [
    "#formatting of string\n",
    "name = \"john\" ; marks = 56 ; sub = \"maths\"\n",
    "print(\"{} scored {} marks in {}\".format(name,marks,sub))"
   ]
  },
  {
   "cell_type": "code",
   "execution_count": 105,
   "metadata": {},
   "outputs": [
    {
     "name": "stdout",
     "output_type": "stream",
     "text": [
      "john scored jack marks\n"
     ]
    }
   ],
   "source": [
    "name = [\"john\" ,\"jack\"]\n",
    "marks = [34,67]\n",
    "print(\"{} scored {} marks\".format(*name,*marks))\n",
    "#here firdt the variable of first list is printed in the brackets the the next"
   ]
  },
  {
   "cell_type": "code",
   "execution_count": 106,
   "metadata": {},
   "outputs": [
    {
     "name": "stdout",
     "output_type": "stream",
     "text": [
      "john scored 34 marks\n",
      "jack scored 67 marks\n"
     ]
    }
   ],
   "source": [
    "print(\"{} scored {} marks\".format(name[0],marks[0]))\n",
    "print(\"{} scored {} marks\".format(name[1],marks[1]))"
   ]
  },
  {
   "cell_type": "code",
   "execution_count": 107,
   "metadata": {},
   "outputs": [
    {
     "name": "stdout",
     "output_type": "stream",
     "text": [
      "34 + 67\n",
      "101\n"
     ]
    }
   ],
   "source": [
    "print(\"{} + {}\".format(*marks))\n",
    "print(eval(\"{} + {}\".format(*marks)))"
   ]
  },
  {
   "cell_type": "code",
   "execution_count": 109,
   "metadata": {},
   "outputs": [
    {
     "name": "stdout",
     "output_type": "stream",
     "text": [
      "67 + 67\n",
      "134\n"
     ]
    }
   ],
   "source": [
    "print(\"{1} + {1}\".format(*marks))\n",
    "print(eval(\"{1} + {1}\".format(*marks))) #it will get theindex if complete listis given in format function"
   ]
  },
  {
   "cell_type": "code",
   "execution_count": 112,
   "metadata": {},
   "outputs": [
    {
     "name": "stdout",
     "output_type": "stream",
     "text": [
      "length of word 'something' is 9\n",
      "Addition of 34 and 67 is 101\n"
     ]
    }
   ],
   "source": [
    "var = \"something\"\n",
    "print(\"length of word '{}' is {}\".format(var,len(var)))\n",
    "print(\"Addition of {} and {} is {}\".format(*marks,marks[0]+marks[1]))"
   ]
  },
  {
   "cell_type": "code",
   "execution_count": 115,
   "metadata": {},
   "outputs": [
    {
     "name": "stdout",
     "output_type": "stream",
     "text": [
      "Your dress price after discount is 113.40\n",
      "Your dress price after discount is 113.40\n"
     ]
    }
   ],
   "source": [
    "#we can also intialize within the format\n",
    "print(\"Your dress price after discount is {price:0.2f}\".format(price=9866/87))\n",
    "#it can also be used as\n",
    "print(\"Your dress price after discount is {price:0.2f}\".\\\n",
    "      format(price=9866/87))"
   ]
  },
  {
   "cell_type": "code",
   "execution_count": 120,
   "metadata": {},
   "outputs": [
    {
     "name": "stdout",
     "output_type": "stream",
     "text": [
      "It is a doocstring which states python does not use semicolon at end of each line but c does\n",
      "It is a doocstring which states {v1} does not use {v3} at end of each line but {v2} does\n",
      "It is a doocstring which states python does not use semicolon at end of each line but c does\n"
     ]
    }
   ],
   "source": [
    "#docstring\n",
    "v1 = \"python\" ; v2 = \"c\" ; v3 = \"semicolon\"\n",
    "print(f\"\"\"It is a doocstring which states {v1} does not use {v3} at end of each line but {v2} does\"\"\")\n",
    "#thw f at the start of semicolon is requires otherwise it will print the bracket as it is\n",
    "print(\"\"\"It is a doocstring which states {v1} does not use {v3} at end of each line but {v2} does\"\"\")\n",
    "#we can use only one pair if brackets instead of one and it will give the same result\n",
    "print(f\"It is a doocstring which states {v1} does not use {v3} at end of each line but {v2} does\")"
   ]
  }
 ],
 "metadata": {
  "kernelspec": {
   "display_name": "Python 3",
   "language": "python",
   "name": "python3"
  },
  "language_info": {
   "codemirror_mode": {
    "name": "ipython",
    "version": 3
   },
   "file_extension": ".py",
   "mimetype": "text/x-python",
   "name": "python",
   "nbconvert_exporter": "python",
   "pygments_lexer": "ipython3",
   "version": "3.7.2"
  }
 },
 "nbformat": 4,
 "nbformat_minor": 4
}
